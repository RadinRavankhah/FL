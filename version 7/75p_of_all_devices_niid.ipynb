{
  "cells": [
    {
      "cell_type": "markdown",
      "metadata": {
        "id": "7cM8_9f7DQ0P"
      },
      "source": [
        "## Imports"
      ]
    },
    {
      "cell_type": "code",
      "execution_count": 1,
      "metadata": {
        "id": "7ZDVPjAODQ0R"
      },
      "outputs": [],
      "source": [
        "# IMPORTS\n",
        "import numpy as np\n",
        "import pandas as pd\n",
        "import keras\n",
        "from keras import layers\n",
        "import random\n",
        "from keras.utils import to_categorical\n"
      ]
    },
    {
      "cell_type": "markdown",
      "metadata": {
        "id": "k6jG5c5fDQ0S"
      },
      "source": [
        "## Classes"
      ]
    },
    {
      "cell_type": "code",
      "execution_count": 2,
      "metadata": {
        "id": "eRjGPts0DQ0T"
      },
      "outputs": [],
      "source": [
        "# CLASSES\n",
        "\n",
        "class Device:\n",
        "    def __init__(self, id, ram, storage, cpu, bandwidth, battery, charging):\n",
        "        self.id = id\n",
        "        self.ram = ram\n",
        "        self.storage = storage\n",
        "        self.cpu = cpu\n",
        "        self.bandwidth = bandwidth\n",
        "        self.battery = battery\n",
        "        self.charging = charging\n",
        "        self.model: keras.Sequential = Server.create_model()\n",
        "        self.last_round_participated = 0\n",
        "        self.data = None  # Placeholder for dataset partition\n",
        "        self.test_data = None\n",
        "        self.number_of_times_fitted = 0\n",
        "        self.hardware_value_sum = 0.0\n",
        "        \n",
        "    def lose_battery(self):\n",
        "        if self.hardware_value_sum > 0.3:\n",
        "            self.hardware_value_sum -= 0.3\n",
        "        else:\n",
        "            self.hardware_value_sum = 0\n",
        "            print(\"device turned off!\")\n",
        "        \n",
        "        # if float(self.battery) > 0.3:\n",
        "        #     self.battery -= 0.3\n",
        "        # else:\n",
        "        #     self.battery = 0\n",
        "        #     print(\"device turned off!\")\n",
        "\n",
        "class Server:\n",
        "    def __init__(self, devices_list: list[Device]):\n",
        "        self.model: keras.Sequential = Server.create_model()\n",
        "        self.current_learning_iteration = 0\n",
        "        self.LAST_WEIGHTS_SENT_FOR_ALL_DEVICES = []\n",
        "        self.x_test_global = []\n",
        "        self.y_test_global = []\n",
        "        self.devices = devices_list\n",
        "               \n",
        "        # The variables below are used to keep track of the remaining rounds and generations and to store the variances\n",
        "        # They do not logically belong to the Server class\n",
        "        self.remaining_generation = 0\n",
        "        self.remaining_round = 0\n",
        "        self.variances = []  # List to store variances as [round, gen, solution, variance]\n",
        "        self.pareto_fronts = [] # List to store pareto fronts as [round, gen, solution]\n",
        "\n",
        "    def evaluate(self, x_test=None, y_test=None, verbose = 0):\n",
        "        if x_test is None and y_test is None:\n",
        "            test_loss, test_acc = self.model.evaluate(self.x_test_global, self.y_test_global, verbose)\n",
        "            return test_loss, test_acc\n",
        "        test_loss, test_acc = self.model.evaluate(x_test, y_test, verbose=verbose)\n",
        "        return test_loss, test_acc\n",
        "\n",
        "    def get_weights(self):\n",
        "        return self.model.get_weights()\n",
        "\n",
        "    def set_aggregated_weight(self):\n",
        "        self.model.set_weight(Server.aggregate_weights())\n",
        "\n",
        "    def give_global_model_weights_to_bitstring_devices(self, bitstring):\n",
        "        for device in self.devices:\n",
        "            if int(bitstring[int(device.id)]) == 1:\n",
        "                device.model.set_weights(self.model.get_weights())\n",
        "\n",
        "    def create_model() -> keras.Sequential:\n",
        "        model = keras.Sequential([\n",
        "            layers.Conv2D(32, kernel_size=(3, 3), activation='relu', input_shape=(28, 28, 1)),\n",
        "            layers.MaxPooling2D(pool_size=(2, 2)),\n",
        "            layers.Flatten(),\n",
        "            layers.Dense(128, activation='relu'),\n",
        "            layers.Dense(10, activation='softmax')\n",
        "        ])\n",
        "        model.compile(optimizer=keras.optimizers.SGD(learning_rate=0.01),\n",
        "                        # new\n",
        "                        loss='categorical_crossentropy', metrics=['accuracy'])\n",
        "        return model\n",
        "\n",
        "    def aggregate_weights(self, bitstring):\n",
        "        \"\"\"Computes the weighted average of model weights from all devices and updates the global model.\"\"\"\n",
        "        def sum_all_nested_lists(list_of_lists):\n",
        "            def recursive_sum(lists):\n",
        "                if isinstance(lists[0], list):\n",
        "                    return [recursive_sum([lst[i] for lst in lists]) for i in range(len(lists[0]))]\n",
        "                else:\n",
        "                    return sum(lists)\n",
        "\n",
        "            return recursive_sum(list_of_lists)\n",
        "\n",
        "        def multiply_nested_list(lst, factor):\n",
        "            result = []\n",
        "            for item in lst:\n",
        "                if isinstance(item, list):\n",
        "                    # Recursively handle sublists\n",
        "                    result.append(multiply_nested_list(item, factor))\n",
        "                else:\n",
        "                    # Multiply number\n",
        "                    result.append(item * factor)\n",
        "            return result\n",
        "\n",
        "        selected_devices = []\n",
        "        for device in self.devices:\n",
        "            if int(bitstring[int(device.id)]) == 1:\n",
        "                selected_devices.append(device)\n",
        "\n",
        "        num_devices = len(selected_devices)\n",
        "        if num_devices == 0:\n",
        "            print(\"No devices available for aggregation.\")\n",
        "            return\n",
        "\n",
        "        device_participation_ratio = []\n",
        "        data_lengths = []\n",
        "\n",
        "        for device in selected_devices:\n",
        "            # print(\"*******************\")\n",
        "            # print(device.id)\n",
        "            device_participation_ratio.append(device.last_round_participated / self.current_learning_iteration)\n",
        "            # print(\"this device's participation ratio:\")\n",
        "            # print(device.last_round_participated / self.current_learning_iteration)\n",
        "            data_lengths.append(len(device.data[0]))\n",
        "            # print(\"this device's data to all ratio:\")\n",
        "            # print(len(device.data[0])/60000.0)\n",
        "\n",
        "        sum_data = 0\n",
        "        for data_len in data_lengths:\n",
        "            sum_data += data_len\n",
        "\n",
        "        data_fractions = []\n",
        "        for device in selected_devices:\n",
        "            data_fractions.append(len(device.data[0])/float(sum_data))\n",
        "\n",
        "\n",
        "\n",
        "        combined_weights = [fraction * ratio for fraction, ratio in zip(data_fractions, device_participation_ratio)]\n",
        "        total_weight = sum(combined_weights)\n",
        "        normalized_weights = [w / total_weight for w in combined_weights]\n",
        "        # print(normalized_weights)\n",
        "\n",
        "\n",
        "        aggregated_weights_devices = []\n",
        "        for d in range(len(selected_devices)):\n",
        "            # aggregated_weights_devices.append(multiply_nested_list(selected_devices[d].model.get_weights(), data_fractions[d]*device_participation_ratio[d]))\n",
        "            aggregated_weights_devices.append(multiply_nested_list(self.LAST_WEIGHTS_SENT_FOR_ALL_DEVICES[int(selected_devices[d].id)], normalized_weights[d]))\n",
        "\n",
        "        aggregated_weights = sum_all_nested_lists(aggregated_weights_devices)\n",
        "        # TODO: Weighted multiplication for each node in each layer of the neural network of the received devices and then summing\n",
        "        #       the related parts together so that we get a full weighted average of all these devices' models\n",
        "\n",
        "        # print(\"Aggregated weights:\")\n",
        "        # for layer_idx, layer_weights in enumerate(aggregated_weights):\n",
        "            # print(f\"Layer {layer_idx}: {layer_weights.shape}\")\n",
        "            \n",
        "        \n",
        "        return aggregated_weights\n",
        "\n",
        "\n"
      ]
    },
    {
      "cell_type": "markdown",
      "metadata": {
        "id": "E3jpr0sQDQ0U"
      },
      "source": [
        "## Functions"
      ]
    },
    {
      "cell_type": "code",
      "execution_count": 3,
      "metadata": {
        "id": "YSAsTf5GDQ0V"
      },
      "outputs": [],
      "source": [
        "# Functions\n",
        "\n",
        "def fit_bitstring_devices(bitstring, server: Server, epochs=7):\n",
        "    '''\n",
        "    server: for using its \"current_learning_iteration\" variable\n",
        "    '''\n",
        "\n",
        "    server.current_learning_iteration += 1\n",
        "    for device in server.devices:\n",
        "        if int(bitstring[int(device.id)]) == 1:\n",
        "            # TODO:\n",
        "            # makes it so that the selection might choose a device that's been turned off\n",
        "            # if the device is off, don't fit, use old weights saved on the server.\n",
        "            # if the device is on, fit, update the weights saved on the server.\n",
        "            # TODO:\n",
        "            # COMMENTED FOR NOW, SINCE IT ALREADY AFFECTS NSGA2 EVALUATION\n",
        "            \n",
        "            # if device.hardware_value_sum :\n",
        "            #     continue\n",
        "            \n",
        "            device.lose_battery()\n",
        "            \n",
        "            device.model.fit(device.data[0], device.data[1], epochs=epochs, verbose=0)\n",
        "            # print(device.id)\n",
        "            device.last_round_participated = server.current_learning_iteration\n",
        "            server.LAST_WEIGHTS_SENT_FOR_ALL_DEVICES[int(device.id)] = device.model.get_weights()\n",
        "            device.number_of_times_fitted += 1\n",
        "\n",
        "\n",
        "\n",
        "\n",
        "def niid_labeldir_split(x_data, y_data, num_clients, beta, seed=None):\n",
        "    num_classes = 10\n",
        "    y_indices = np.array([np.argmax(label) for label in y_data])  # From one-hot to class index\n",
        "    \n",
        "    rng = np.random.default_rng(seed)  # Local random generator\n",
        "\n",
        "    # Prepare client partitions\n",
        "    client_indices = [[] for _ in range(num_clients)]\n",
        "\n",
        "    for k in range(num_classes):\n",
        "        idx_k = np.where(y_indices == k)[0]\n",
        "        rng.shuffle(idx_k)\n",
        "\n",
        "        # Dirichlet distribution for class k\n",
        "        proportions = rng.dirichlet(np.repeat(beta, num_clients))\n",
        "\n",
        "        # Scale proportions to match the number of available samples\n",
        "        proportions = np.array([int(p * len(idx_k)) for p in proportions])\n",
        "        # Fix total due to rounding\n",
        "        while sum(proportions) < len(idx_k):\n",
        "            proportions[np.argmin(proportions)] += 1\n",
        "        while sum(proportions) > len(idx_k):\n",
        "            proportions[np.argmax(proportions)] -= 1\n",
        "\n",
        "        start = 0\n",
        "        for i in range(num_clients):\n",
        "            size = proportions[i]\n",
        "            client_indices[i].extend(idx_k[start:start + size])\n",
        "            start += size\n",
        "\n",
        "    return client_indices\n",
        "\n",
        "\n",
        "\n",
        "def random_hardware_value_for_devices(devices: list[Device]):\n",
        "    random_values = [3.91, 0.62, 1.79, 4.96, 5.87, 2.14, 1.41, 5.18, 2.80, 3.00, 0.20, 1.02, 5.73, 0.69, 4.27,\n",
        "                     5.37, 1.62, 0.93, 3.61, 2.90, 4.53, 2.13, 3.01, 0.07, 1.34, 3.90, 0.28, 1.89, 5.95, 2.76]\n",
        "    \n",
        "    for idx in range(len(devices)):\n",
        "        devices[idx].hardware_value_sum = random_values[idx]\n",
        "    \n",
        "    print(\"Successfully gave each device a random value between 0 and 6 for its hardware objective!\")\n"
      ]
    },
    {
      "cell_type": "markdown",
      "metadata": {
        "id": "8I_M11zZDQ0W"
      },
      "source": [
        "## Load Data"
      ]
    },
    {
      "cell_type": "markdown",
      "metadata": {
        "id": "X8SKaZfTDQ0W"
      },
      "source": [
        "### Load Devices"
      ]
    },
    {
      "cell_type": "code",
      "execution_count": 4,
      "metadata": {
        "colab": {
          "base_uri": "https://localhost:8080/"
        },
        "id": "dp1Ba7wUDQ0W",
        "outputId": "5d017ddf-25eb-46b0-f6e3-5ec61e2bf722"
      },
      "outputs": [
        {
          "name": "stderr",
          "output_type": "stream",
          "text": [
            "d:\\github project\\FL\\venv\\Lib\\site-packages\\keras\\src\\layers\\convolutional\\base_conv.py:113: UserWarning: Do not pass an `input_shape`/`input_dim` argument to a layer. When using Sequential models, prefer using an `Input(shape)` object as the first layer in the model instead.\n",
            "  super().__init__(activity_regularizer=activity_regularizer, **kwargs)\n"
          ]
        },
        {
          "name": "stdout",
          "output_type": "stream",
          "text": [
            "Successfully gave each device a random value between 0 and 6 for its hardware objective!\n"
          ]
        }
      ],
      "source": [
        "# Load dataset from CSV\n",
        "csv_file = 'devices.csv'\n",
        "df = pd.read_csv(csv_file)\n",
        "df.columns = df.columns.str.strip().str.lower()\n",
        "\n",
        "# Convert CSV rows into device objects\n",
        "devices = []\n",
        "\n",
        "for _, row in df.iterrows():\n",
        "    device = Device(\n",
        "        row['id'], row['ram'], row['storage'], row['cpu'], row['bandwidth'], row['battery'],\n",
        "        row.get('charging', 0)\n",
        "    )\n",
        "    devices.append(device)\n",
        "\n",
        "\n",
        "# LIMIT TO 30 DEVICES\n",
        "devices = devices[:30]\n",
        "\n",
        "random_hardware_value_for_devices(devices)"
      ]
    },
    {
      "cell_type": "markdown",
      "metadata": {
        "id": "5dQSqJi6DQ0Y"
      },
      "source": [
        "### Object Initializations"
      ]
    },
    {
      "cell_type": "code",
      "execution_count": 5,
      "metadata": {
        "id": "OvVt3SZzDQ0Z"
      },
      "outputs": [],
      "source": [
        "# Global Model\n",
        "server = Server(devices_list=devices)\n",
        "server.LAST_WEIGHTS_SENT_FOR_ALL_DEVICES = [None for _ in range(len(devices))]"
      ]
    },
    {
      "cell_type": "markdown",
      "metadata": {
        "id": "hodxc61dDQ0Z"
      },
      "source": [
        "### Split Data Among Devices"
      ]
    },
    {
      "cell_type": "code",
      "execution_count": 6,
      "metadata": {},
      "outputs": [],
      "source": [
        "SEED = 1\n",
        "# np.random.seed(SEED)\n",
        "# np.random.random_integers(1, 10)"
      ]
    },
    {
      "cell_type": "code",
      "execution_count": 7,
      "metadata": {
        "colab": {
          "base_uri": "https://localhost:8080/"
        },
        "id": "4ySmgcIuDQ0Z",
        "outputId": "5b32be3b-f118-4bda-c12d-0bfdf1e74f2c"
      },
      "outputs": [
        {
          "name": "stdout",
          "output_type": "stream",
          "text": [
            "X_train shape: (118, 28, 28, 1)\n",
            "X_test shape: (51, 28, 28, 1)\n",
            "y_train shape: (118, 10)\n",
            "y_test shape: (51, 10)\n",
            "X_train shape: (104, 28, 28, 1)\n",
            "X_test shape: (45, 28, 28, 1)\n",
            "y_train shape: (104, 10)\n",
            "y_test shape: (45, 10)\n",
            "X_train shape: (151, 28, 28, 1)\n",
            "X_test shape: (66, 28, 28, 1)\n",
            "y_train shape: (151, 10)\n",
            "y_test shape: (66, 10)\n",
            "X_train shape: (220, 28, 28, 1)\n",
            "X_test shape: (95, 28, 28, 1)\n",
            "y_train shape: (220, 10)\n",
            "y_test shape: (95, 10)\n",
            "X_train shape: (291, 28, 28, 1)\n",
            "X_test shape: (125, 28, 28, 1)\n",
            "y_train shape: (291, 10)\n",
            "y_test shape: (125, 10)\n",
            "X_train shape: (182, 28, 28, 1)\n",
            "X_test shape: (78, 28, 28, 1)\n",
            "y_train shape: (182, 10)\n",
            "y_test shape: (78, 10)\n",
            "X_train shape: (186, 28, 28, 1)\n",
            "X_test shape: (81, 28, 28, 1)\n",
            "y_train shape: (186, 10)\n",
            "y_test shape: (81, 10)\n",
            "X_train shape: (157, 28, 28, 1)\n",
            "X_test shape: (68, 28, 28, 1)\n",
            "y_train shape: (157, 10)\n",
            "y_test shape: (68, 10)\n",
            "X_train shape: (357, 28, 28, 1)\n",
            "X_test shape: (154, 28, 28, 1)\n",
            "y_train shape: (357, 10)\n",
            "y_test shape: (154, 10)\n",
            "X_train shape: (232, 28, 28, 1)\n",
            "X_test shape: (100, 28, 28, 1)\n",
            "y_train shape: (232, 10)\n",
            "y_test shape: (100, 10)\n",
            "X_train shape: (466, 28, 28, 1)\n",
            "X_test shape: (200, 28, 28, 1)\n",
            "y_train shape: (466, 10)\n",
            "y_test shape: (200, 10)\n",
            "X_train shape: (186, 28, 28, 1)\n",
            "X_test shape: (80, 28, 28, 1)\n",
            "y_train shape: (186, 10)\n",
            "y_test shape: (80, 10)\n",
            "X_train shape: (92, 28, 28, 1)\n",
            "X_test shape: (40, 28, 28, 1)\n",
            "y_train shape: (92, 10)\n",
            "y_test shape: (40, 10)\n",
            "X_train shape: (163, 28, 28, 1)\n",
            "X_test shape: (70, 28, 28, 1)\n",
            "y_train shape: (163, 10)\n",
            "y_test shape: (70, 10)\n",
            "X_train shape: (426, 28, 28, 1)\n",
            "X_test shape: (183, 28, 28, 1)\n",
            "y_train shape: (426, 10)\n",
            "y_test shape: (183, 10)\n",
            "X_train shape: (307, 28, 28, 1)\n",
            "X_test shape: (132, 28, 28, 1)\n",
            "y_train shape: (307, 10)\n",
            "y_test shape: (132, 10)\n",
            "X_train shape: (184, 28, 28, 1)\n",
            "X_test shape: (80, 28, 28, 1)\n",
            "y_train shape: (184, 10)\n",
            "y_test shape: (80, 10)\n",
            "X_train shape: (176, 28, 28, 1)\n",
            "X_test shape: (76, 28, 28, 1)\n",
            "y_train shape: (176, 10)\n",
            "y_test shape: (76, 10)\n",
            "X_train shape: (174, 28, 28, 1)\n",
            "X_test shape: (75, 28, 28, 1)\n",
            "y_train shape: (174, 10)\n",
            "y_test shape: (75, 10)\n",
            "X_train shape: (359, 28, 28, 1)\n",
            "X_test shape: (155, 28, 28, 1)\n",
            "y_train shape: (359, 10)\n",
            "y_test shape: (155, 10)\n",
            "X_train shape: (243, 28, 28, 1)\n",
            "X_test shape: (105, 28, 28, 1)\n",
            "y_train shape: (243, 10)\n",
            "y_test shape: (105, 10)\n",
            "X_train shape: (335, 28, 28, 1)\n",
            "X_test shape: (144, 28, 28, 1)\n",
            "y_train shape: (335, 10)\n",
            "y_test shape: (144, 10)\n",
            "X_train shape: (131, 28, 28, 1)\n",
            "X_test shape: (57, 28, 28, 1)\n",
            "y_train shape: (131, 10)\n",
            "y_test shape: (57, 10)\n",
            "X_train shape: (256, 28, 28, 1)\n",
            "X_test shape: (110, 28, 28, 1)\n",
            "y_train shape: (256, 10)\n",
            "y_test shape: (110, 10)\n",
            "X_train shape: (147, 28, 28, 1)\n",
            "X_test shape: (63, 28, 28, 1)\n",
            "y_train shape: (147, 10)\n",
            "y_test shape: (63, 10)\n",
            "X_train shape: (402, 28, 28, 1)\n",
            "X_test shape: (173, 28, 28, 1)\n",
            "y_train shape: (402, 10)\n",
            "y_test shape: (173, 10)\n",
            "X_train shape: (429, 28, 28, 1)\n",
            "X_test shape: (185, 28, 28, 1)\n",
            "y_train shape: (429, 10)\n",
            "y_test shape: (185, 10)\n",
            "X_train shape: (171, 28, 28, 1)\n",
            "X_test shape: (74, 28, 28, 1)\n",
            "y_train shape: (171, 10)\n",
            "y_test shape: (74, 10)\n",
            "X_train shape: (262, 28, 28, 1)\n",
            "X_test shape: (113, 28, 28, 1)\n",
            "y_train shape: (262, 10)\n",
            "y_test shape: (113, 10)\n",
            "X_train shape: (80, 28, 28, 1)\n",
            "X_test shape: (35, 28, 28, 1)\n",
            "y_train shape: (80, 10)\n",
            "y_test shape: (35, 10)\n"
          ]
        }
      ],
      "source": [
        "\n",
        "\n",
        "# Load MNIST dataset\n",
        "(x_train, y_train), (x_test, y_test) = keras.datasets.mnist.load_data()\n",
        "\n",
        "# Convert labels to categorical (one-hot encoded)\n",
        "y_train = to_categorical(y_train, num_classes=10)\n",
        "y_test = to_categorical(y_test, num_classes=10)\n",
        "\n",
        "# Normalize data and reshape for CNN\n",
        "x_train = x_train.astype(\"float32\") / 255.0\n",
        "x_train = np.expand_dims(x_train, -1)  # Add channel dimension\n",
        "\n",
        "x_test = x_test.astype(\"float32\") / 255.0\n",
        "x_test = np.expand_dims(x_test, -1)  # Add channel dimension\n",
        "\n",
        "# Shuffle data\n",
        "# indices = np.arange(len(x_train))\n",
        "# np.random.shuffle(indices)\n",
        "# x_train, y_train = x_train[indices], y_train[indices]\n",
        "\n",
        "\n",
        "\n",
        "\n",
        "# Lower the amount of data for devices\n",
        "x_train = x_train[:int(len(x_train)/6)] # was 8\n",
        "y_train = y_train[:int(len(y_train)/6)]\n",
        "\n",
        "\n",
        "\n",
        "\n",
        "# Correct test split\n",
        "split_index = int(0.8 * len(x_test))\n",
        "x_test_devices, y_test_devices = x_test[:split_index], y_test[:split_index]\n",
        "server.x_test_global, server.y_test_global = x_test[split_index:], y_test[split_index:]\n",
        "\n",
        "# Training data (for devices)\n",
        "x_train_devices, y_train_devices = x_train, y_train\n",
        "\n",
        "# Split training data among devices\n",
        "beta = 0.5  # lower = more skewed\n",
        "num_devices = len(devices)\n",
        "split_indices = niid_labeldir_split(x_train_devices, y_train_devices, num_devices, beta, seed=SEED)\n",
        "\n",
        "for i, device in enumerate(devices):\n",
        "    idxs = split_indices[i]\n",
        "\n",
        "    from sklearn.model_selection import train_test_split\n",
        "\n",
        "    # Split into train and test\n",
        "    X_train, X_test, y_train, y_test = train_test_split(x_train_devices[idxs], y_train_devices[idxs], test_size=0.3, random_state=42)\n",
        "\n",
        "    device.data = [X_train, y_train]\n",
        "    device.test_data = [X_test, y_test]\n",
        "\n",
        "    print(\"X_train shape:\", X_train.shape)\n",
        "    print(\"X_test shape:\", X_test.shape)\n",
        "    print(\"y_train shape:\", y_train.shape)\n",
        "    print(\"y_test shape:\", y_test.shape)\n",
        "\n",
        "\n",
        "#TODO:\n",
        "# how does each objective get better through populations? maybe put em on a scale"
      ]
    },
    {
      "cell_type": "code",
      "execution_count": 8,
      "metadata": {},
      "outputs": [
        {
          "name": "stdout",
          "output_type": "stream",
          "text": [
            "110\n"
          ]
        }
      ],
      "source": [
        "# test\n",
        "a, b =devices[23].test_data\n",
        "print(len(a))"
      ]
    },
    {
      "cell_type": "markdown",
      "metadata": {
        "id": "TXlJ81PvDQ0Z"
      },
      "source": [
        "### Load Other Data"
      ]
    },
    {
      "cell_type": "code",
      "execution_count": null,
      "metadata": {
        "id": "ROtD_ODCDQ0Z"
      },
      "outputs": [],
      "source": []
    },
    {
      "cell_type": "markdown",
      "metadata": {
        "id": "SOFERpbpDQ0Z"
      },
      "source": [
        "## First Iteration"
      ]
    },
    {
      "cell_type": "code",
      "execution_count": 9,
      "metadata": {
        "colab": {
          "base_uri": "https://localhost:8080/"
        },
        "id": "RtoM8SQmHqJs",
        "outputId": "0b9ad23e-e90e-47f5-f416-bd856dfd56a4"
      },
      "outputs": [
        {
          "name": "stdout",
          "output_type": "stream",
          "text": [
            "[1, 1, 1, 1, 1, 1, 1, 1, 1, 1, 1, 1, 1, 1, 1, 1, 1, 1, 1, 1, 1, 1, 1, 1, 1, 1, 1, 1, 1, 1]\n",
            "\u001b[1m63/63\u001b[0m \u001b[32m━━━━━━━━━━━━━━━━━━━━\u001b[0m\u001b[37m\u001b[0m \u001b[1m1s\u001b[0m 4ms/step - accuracy: 0.0628 - loss: 2.3102\n",
            "Global Model Accuracy: 0.07\n",
            "------------------------------------------------------------\n",
            "device turned off!\n",
            "device turned off!\n",
            "device turned off!\n",
            "------------------------------------------------------------\n",
            "\u001b[1m63/63\u001b[0m \u001b[32m━━━━━━━━━━━━━━━━━━━━\u001b[0m\u001b[37m\u001b[0m \u001b[1m0s\u001b[0m 5ms/step - accuracy: 0.6159 - loss: 1.9024\n",
            "Global Model Accuracy: 0.59\n"
          ]
        }
      ],
      "source": [
        "# First Iteration\n",
        "bitstring = [1 for _ in range(len(devices))]\n",
        "print(bitstring)\n",
        "\n",
        "\n",
        "\n",
        "# Save weights to a file\n",
        "# The file name should end in .weights.h5\n",
        "# The weights can be loaded into a model using model.load_weights('model.weights.h5')\n",
        "server.model.save_weights('my_model.weights.h5')\n",
        "\n",
        "# global model sends its weights to all devices\n",
        "server.give_global_model_weights_to_bitstring_devices(bitstring)\n",
        "\n",
        "\n",
        "\n",
        "test_loss, test_acc = server.evaluate(verbose=0)\n",
        "print(f\"Global Model Accuracy: {test_acc:.2f}\")\n",
        "print(\"------------------------------------------------------------\")\n",
        "fit_bitstring_devices(bitstring, server)\n",
        "server.model.set_weights(server.aggregate_weights(bitstring))\n",
        "print(\"------------------------------------------------------------\")\n",
        "test_loss, test_acc = server.evaluate(verbose=0)\n",
        "print(f\"Global Model Accuracy: {test_acc:.2f}\")"
      ]
    },
    {
      "cell_type": "markdown",
      "metadata": {
        "id": "6NWyAIYBDQ0a"
      },
      "source": [
        "## FL Loop"
      ]
    },
    {
      "cell_type": "code",
      "execution_count": 10,
      "metadata": {
        "id": "hiEDWLPjHqJt"
      },
      "outputs": [],
      "source": [
        "# Parameters\n",
        "NUM_ROUNDS = 4 # should be 4\n",
        "\n",
        "server.remaining_round = NUM_ROUNDS"
      ]
    },
    {
      "cell_type": "code",
      "execution_count": 11,
      "metadata": {
        "colab": {
          "base_uri": "https://localhost:8080/"
        },
        "id": "QhEjXpgNGaxb",
        "outputId": "f6097fa0-e29b-4750-89b4-b771eedd8eea"
      },
      "outputs": [
        {
          "name": "stdout",
          "output_type": "stream",
          "text": [
            "(2000, 28, 28, 1)\n",
            "(2000, 10)\n",
            "(10000, 28, 28, 1)\n",
            "(80, 10)\n"
          ]
        }
      ],
      "source": [
        "# DEBUG:\n",
        "print(server.x_test_global.shape)\n",
        "print(server.y_test_global.shape)\n",
        "\n",
        "print(x_train.shape)\n",
        "print(y_train.shape)"
      ]
    },
    {
      "cell_type": "code",
      "execution_count": 12,
      "metadata": {},
      "outputs": [],
      "source": [
        "import random\n",
        "\n",
        "def generate_binary_list(n: int, percent_ones: float):\n",
        "    \"\"\"\n",
        "    Generate a list of n random binary numbers (0s and 1s),\n",
        "    where approximately 'percent_ones' fraction are 1s.\n",
        "\n",
        "    Args:\n",
        "        n (int): Total number of elements in the list.\n",
        "        percent_ones (float): Fraction (0.0 to 1.0) indicating what percent should be 1s.\n",
        "\n",
        "    Returns:\n",
        "        list[int]: Randomized list of 0s and 1s.\n",
        "    \"\"\"\n",
        "    if not (0 <= percent_ones <= 1):\n",
        "        raise ValueError(\"percent_ones must be between 0.0 and 1.0\")\n",
        "\n",
        "    # Determine number of ones\n",
        "    num_ones = int(round(n * percent_ones))\n",
        "    num_zeros = n - num_ones\n",
        "\n",
        "    # Create the list\n",
        "    binary_list = [1] * num_ones + [0] * num_zeros\n",
        "\n",
        "    # Shuffle for randomness\n",
        "    random.shuffle(binary_list)\n",
        "\n",
        "    return binary_list\n"
      ]
    },
    {
      "cell_type": "code",
      "execution_count": 13,
      "metadata": {},
      "outputs": [
        {
          "name": "stdout",
          "output_type": "stream",
          "text": [
            "[1, 1, 1, 0, 0, 1, 0, 0, 0, 1, 1, 1, 1, 1, 1, 1, 0, 1, 1, 1, 0, 1, 1, 1, 1, 1, 1, 1, 1, 0]\n",
            "22\n"
          ]
        }
      ],
      "source": [
        "lst = generate_binary_list(30, 0.75)\n",
        "print(lst)\n",
        "print(lst.count(1))"
      ]
    },
    {
      "cell_type": "code",
      "execution_count": 14,
      "metadata": {
        "colab": {
          "base_uri": "https://localhost:8080/"
        },
        "id": "FM0EBc17HqJu",
        "outputId": "2f73767f-beaf-451d-eef0-46457ebd604e"
      },
      "outputs": [
        {
          "name": "stdout",
          "output_type": "stream",
          "text": [
            "[1, 1, 0, 1, 0, 0, 1, 1, 0, 1, 1, 1, 1, 1, 1, 0, 1, 0, 1, 1, 1, 1, 1, 1, 1, 1, 1, 1, 0, 0]\n",
            "1\n",
            "<class 'int'>\n",
            "\u001b[1m63/63\u001b[0m \u001b[32m━━━━━━━━━━━━━━━━━━━━\u001b[0m\u001b[37m\u001b[0m \u001b[1m0s\u001b[0m 6ms/step - accuracy: 0.6159 - loss: 1.9024\n",
            "Global Model Accuracy: 0.59\n",
            "------------------------------------------------------------\n",
            "device turned off!\n",
            "device turned off!\n",
            "device turned off!\n",
            "------------------------------------------------------------\n",
            "\u001b[1m63/63\u001b[0m \u001b[32m━━━━━━━━━━━━━━━━━━━━\u001b[0m\u001b[37m\u001b[0m \u001b[1m0s\u001b[0m 6ms/step - accuracy: 0.8081 - loss: 1.1560\n",
            "Global Model Accuracy: 0.80\n",
            "Device 0.0 Accuracy: 0.63\n",
            "Device 1.0 Accuracy: 0.71\n",
            "Device 2.0 Accuracy: 0.83\n",
            "Device 3.0 Accuracy: 0.78\n",
            "Device 4.0 Accuracy: 0.81\n",
            "Device 5.0 Accuracy: 0.78\n",
            "Device 6.0 Accuracy: 0.93\n",
            "Device 7.0 Accuracy: 0.88\n",
            "Device 8.0 Accuracy: 0.73\n",
            "Device 9.0 Accuracy: 0.84\n",
            "Device 10.0 Accuracy: 0.64\n",
            "Device 11.0 Accuracy: 0.77\n",
            "Device 12.0 Accuracy: 0.7\n",
            "Device 13.0 Accuracy: 0.79\n",
            "Device 14.0 Accuracy: 0.8\n",
            "Device 15.0 Accuracy: 0.64\n",
            "Device 16.0 Accuracy: 0.81\n",
            "Device 17.0 Accuracy: 0.86\n",
            "Device 18.0 Accuracy: 0.68\n",
            "Device 19.0 Accuracy: 0.74\n",
            "Device 20.0 Accuracy: 0.73\n",
            "Device 21.0 Accuracy: 0.78\n",
            "Device 22.0 Accuracy: 0.89\n",
            "Device 23.0 Accuracy: 0.86\n",
            "Device 24.0 Accuracy: 0.6\n",
            "Device 25.0 Accuracy: 0.79\n",
            "Device 26.0 Accuracy: 0.78\n",
            "Device 27.0 Accuracy: 0.89\n",
            "Device 28.0 Accuracy: 0.73\n",
            "Device 29.0 Accuracy: 0.8\n",
            "[1, 1, 0, 1, 1, 1, 0, 0, 1, 1, 1, 0, 1, 1, 1, 1, 0, 1, 1, 1, 1, 1, 0, 1, 0, 1, 1, 1, 1, 0]\n",
            "1\n",
            "<class 'int'>\n",
            "\u001b[1m63/63\u001b[0m \u001b[32m━━━━━━━━━━━━━━━━━━━━\u001b[0m\u001b[37m\u001b[0m \u001b[1m0s\u001b[0m 6ms/step - accuracy: 0.8081 - loss: 1.1560\n",
            "Global Model Accuracy: 0.80\n",
            "------------------------------------------------------------\n",
            "device turned off!\n",
            "device turned off!\n",
            "device turned off!\n",
            "device turned off!\n",
            "device turned off!\n",
            "------------------------------------------------------------\n",
            "\u001b[1m63/63\u001b[0m \u001b[32m━━━━━━━━━━━━━━━━━━━━\u001b[0m\u001b[37m\u001b[0m \u001b[1m0s\u001b[0m 7ms/step - accuracy: 0.8687 - loss: 0.6696\n",
            "Global Model Accuracy: 0.86\n",
            "Device 0.0 Accuracy: 0.71\n",
            "Device 1.0 Accuracy: 0.73\n",
            "Device 2.0 Accuracy: 0.92\n",
            "Device 3.0 Accuracy: 0.8\n",
            "Device 4.0 Accuracy: 0.89\n",
            "Device 5.0 Accuracy: 0.82\n",
            "Device 6.0 Accuracy: 0.94\n",
            "Device 7.0 Accuracy: 0.85\n",
            "Device 8.0 Accuracy: 0.84\n",
            "Device 9.0 Accuracy: 0.81\n",
            "Device 10.0 Accuracy: 0.81\n",
            "Device 11.0 Accuracy: 0.86\n",
            "Device 12.0 Accuracy: 0.75\n",
            "Device 13.0 Accuracy: 0.87\n",
            "Device 14.0 Accuracy: 0.83\n",
            "Device 15.0 Accuracy: 0.77\n",
            "Device 16.0 Accuracy: 0.84\n",
            "Device 17.0 Accuracy: 0.91\n",
            "Device 18.0 Accuracy: 0.76\n",
            "Device 19.0 Accuracy: 0.83\n",
            "Device 20.0 Accuracy: 0.73\n",
            "Device 21.0 Accuracy: 0.84\n",
            "Device 22.0 Accuracy: 0.88\n",
            "Device 23.0 Accuracy: 0.85\n",
            "Device 24.0 Accuracy: 0.79\n",
            "Device 25.0 Accuracy: 0.82\n",
            "Device 26.0 Accuracy: 0.83\n",
            "Device 27.0 Accuracy: 0.92\n",
            "Device 28.0 Accuracy: 0.7\n",
            "Device 29.0 Accuracy: 0.89\n",
            "[1, 1, 0, 1, 1, 1, 0, 0, 0, 1, 0, 1, 1, 1, 1, 1, 1, 1, 1, 1, 1, 1, 1, 0, 0, 1, 1, 1, 0, 1]\n",
            "1\n",
            "<class 'int'>\n",
            "\u001b[1m63/63\u001b[0m \u001b[32m━━━━━━━━━━━━━━━━━━━━\u001b[0m\u001b[37m\u001b[0m \u001b[1m0s\u001b[0m 5ms/step - accuracy: 0.8687 - loss: 0.6696\n",
            "Global Model Accuracy: 0.86\n",
            "------------------------------------------------------------\n",
            "device turned off!\n",
            "device turned off!\n",
            "device turned off!\n",
            "------------------------------------------------------------\n",
            "\u001b[1m63/63\u001b[0m \u001b[32m━━━━━━━━━━━━━━━━━━━━\u001b[0m\u001b[37m\u001b[0m \u001b[1m0s\u001b[0m 6ms/step - accuracy: 0.8941 - loss: 0.4682\n",
            "Global Model Accuracy: 0.89\n",
            "Device 0.0 Accuracy: 0.76\n",
            "Device 1.0 Accuracy: 0.78\n",
            "Device 2.0 Accuracy: 0.94\n",
            "Device 3.0 Accuracy: 0.84\n",
            "Device 4.0 Accuracy: 0.89\n",
            "Device 5.0 Accuracy: 0.81\n",
            "Device 6.0 Accuracy: 0.91\n",
            "Device 7.0 Accuracy: 0.94\n",
            "Device 8.0 Accuracy: 0.83\n",
            "Device 9.0 Accuracy: 0.81\n",
            "Device 10.0 Accuracy: 0.83\n",
            "Device 11.0 Accuracy: 0.89\n",
            "Device 12.0 Accuracy: 0.77\n",
            "Device 13.0 Accuracy: 0.9\n",
            "Device 14.0 Accuracy: 0.84\n",
            "Device 15.0 Accuracy: 0.8\n",
            "Device 16.0 Accuracy: 0.88\n",
            "Device 17.0 Accuracy: 0.91\n",
            "Device 18.0 Accuracy: 0.85\n",
            "Device 19.0 Accuracy: 0.88\n",
            "Device 20.0 Accuracy: 0.78\n",
            "Device 21.0 Accuracy: 0.87\n",
            "Device 22.0 Accuracy: 0.91\n",
            "Device 23.0 Accuracy: 0.87\n",
            "Device 24.0 Accuracy: 0.84\n",
            "Device 25.0 Accuracy: 0.86\n",
            "Device 26.0 Accuracy: 0.84\n",
            "Device 27.0 Accuracy: 0.95\n",
            "Device 28.0 Accuracy: 0.79\n",
            "Device 29.0 Accuracy: 0.89\n",
            "[1, 1, 1, 1, 1, 0, 1, 1, 1, 0, 0, 1, 0, 0, 0, 1, 1, 1, 1, 1, 1, 0, 0, 1, 1, 1, 1, 1, 1, 1]\n",
            "1\n",
            "<class 'int'>\n",
            "\u001b[1m63/63\u001b[0m \u001b[32m━━━━━━━━━━━━━━━━━━━━\u001b[0m\u001b[37m\u001b[0m \u001b[1m0s\u001b[0m 5ms/step - accuracy: 0.8941 - loss: 0.4682\n",
            "Global Model Accuracy: 0.89\n",
            "------------------------------------------------------------\n",
            "device turned off!\n",
            "device turned off!\n",
            "device turned off!\n",
            "device turned off!\n",
            "device turned off!\n",
            "------------------------------------------------------------\n",
            "\u001b[1m63/63\u001b[0m \u001b[32m━━━━━━━━━━━━━━━━━━━━\u001b[0m\u001b[37m\u001b[0m \u001b[1m0s\u001b[0m 6ms/step - accuracy: 0.9139 - loss: 0.3823\n",
            "Global Model Accuracy: 0.90\n",
            "Device 0.0 Accuracy: 0.78\n",
            "Device 1.0 Accuracy: 0.8\n",
            "Device 2.0 Accuracy: 0.97\n",
            "Device 3.0 Accuracy: 0.86\n",
            "Device 4.0 Accuracy: 0.89\n",
            "Device 5.0 Accuracy: 0.81\n",
            "Device 6.0 Accuracy: 0.93\n",
            "Device 7.0 Accuracy: 0.96\n",
            "Device 8.0 Accuracy: 0.84\n",
            "Device 9.0 Accuracy: 0.78\n",
            "Device 10.0 Accuracy: 0.81\n",
            "Device 11.0 Accuracy: 0.89\n",
            "Device 12.0 Accuracy: 0.75\n",
            "Device 13.0 Accuracy: 0.89\n",
            "Device 14.0 Accuracy: 0.84\n",
            "Device 15.0 Accuracy: 0.86\n",
            "Device 16.0 Accuracy: 0.93\n",
            "Device 17.0 Accuracy: 0.93\n",
            "Device 18.0 Accuracy: 0.88\n",
            "Device 19.0 Accuracy: 0.88\n",
            "Device 20.0 Accuracy: 0.81\n",
            "Device 21.0 Accuracy: 0.83\n",
            "Device 22.0 Accuracy: 0.95\n",
            "Device 23.0 Accuracy: 0.87\n",
            "Device 24.0 Accuracy: 0.83\n",
            "Device 25.0 Accuracy: 0.87\n",
            "Device 26.0 Accuracy: 0.85\n",
            "Device 27.0 Accuracy: 0.91\n",
            "Device 28.0 Accuracy: 0.83\n",
            "Device 29.0 Accuracy: 0.91\n"
          ]
        }
      ],
      "source": [
        "all_runs_fronts = []  # Stores results across runs\n",
        "all_runs_solutions = []\n",
        "\n",
        "needed_values_for_comparison = \"\"\n",
        "\n",
        "for i in range(NUM_ROUNDS):\n",
        "    server.remaining_round = NUM_ROUNDS - i\n",
        "\n",
        "    # Generate bitstring\n",
        "    bitstring = generate_binary_list(len(devices), 0.75)\n",
        "    ###############################\n",
        "    print(bitstring)\n",
        "    print(bitstring[0])\n",
        "    print(type(bitstring[0]))\n",
        "    # global model sends its weights to all devices\n",
        "    server.give_global_model_weights_to_bitstring_devices(bitstring)\n",
        "\n",
        "    test_loss, test_acc = server.evaluate(verbose=0)\n",
        "    print(f\"Global Model Accuracy: {test_acc:.2f}\")\n",
        "    print(\"------------------------------------------------------------\")\n",
        "    fit_bitstring_devices(bitstring, server)\n",
        "    server.model.set_weights(server.aggregate_weights(bitstring))\n",
        "    print(\"------------------------------------------------------------\")\n",
        "    test_loss, test_acc = server.evaluate(verbose=0)\n",
        "    print(f\"Global Model Accuracy: {test_acc:.2f}\")\n",
        "    \n",
        "    # ---\n",
        "    \n",
        "    accuracies = []\n",
        "\n",
        "    for device in server.devices:\n",
        "        x_test = device.test_data[0]\n",
        "        y_test = device.test_data[1]\n",
        "        \n",
        "        loss, accuracy = server.evaluate(x_test, y_test)\n",
        "        \n",
        "        accuracies.append(round(accuracy, 2))\n",
        "        print(f\"Device {device.id} Accuracy: {round(accuracy, 2)}\")\n",
        "\n",
        "    VARIANCE = np.var(accuracies)\n",
        "    VARIANCE_SCORE = 1.0/VARIANCE\n",
        "    MEAN = np.mean(accuracies)\n",
        "    STANDARD_DEVIATION = np.std(accuracies)\n",
        "    FAIRNESS = 1.0/STANDARD_DEVIATION\n",
        "    \n",
        "    needed_values_for_comparison += f\"Round: {i+1}\\nServer Test Accuracy: {test_acc}\\nVariance: {VARIANCE}\\nVariance Score: {VARIANCE_SCORE}\\nMean: {MEAN}\\nStandard Deviation: {STANDARD_DEVIATION}\\nFairness: {FAIRNESS}\\n---\\n\""
      ]
    },
    {
      "cell_type": "code",
      "execution_count": 15,
      "metadata": {},
      "outputs": [],
      "source": [
        "# x = objective 1\n",
        "# y = objective 2\n",
        "# z = objective 3\n",
        "\n",
        "def get_min_objective_value(run_index: int, generation_index: int, objective_index: int, verbose: int=0):\n",
        "    temp_list = []\n",
        "    for solution_objective_values in all_runs_fronts[run_index][generation_index]:\n",
        "        temp_list.append(solution_objective_values[objective_index])\n",
        "    if verbose == 1:\n",
        "        print(f\"For the run index {run_index} and generation index {generation_index}:\")\n",
        "        print(f\"MIN of objective index {objective_index}: {min(temp_list)}\")\n",
        "    return min(temp_list)\n",
        "\n",
        "def get_max_objective_value(run_index: int, generation_index: int, objective_index: int, verbose: int=0):\n",
        "    temp_list = []\n",
        "    for solution_objective_values in all_runs_fronts[run_index][generation_index]:\n",
        "        temp_list.append(solution_objective_values[objective_index])\n",
        "    if verbose == 1:\n",
        "        print(f\"For the run index {run_index} and generation index {generation_index}:\")\n",
        "        print(f\"MAX of objective index {objective_index}: {max(temp_list)}\")\n",
        "    return max(temp_list)"
      ]
    },
    {
      "cell_type": "code",
      "execution_count": 16,
      "metadata": {},
      "outputs": [],
      "source": [
        "def save_run_gen_to_file(run_index: int, gen_index: int, verbose: int = 0):\n",
        "    output = \"\"\n",
        "    for solution_index in range(len(all_runs_solutions[run_index][gen_index])):\n",
        "        s = str(all_runs_solutions[run_index][gen_index][solution_index]).replace(\"True\", \"1\").replace(\"False\", \"0\").replace(\"  \", \" \").replace(\"[ \",\"[\").replace(\" \",\",\").replace(\"\\n\",\"\")\n",
        "        if verbose == 1:\n",
        "            print(f\"solution: {s}\")\n",
        "        output += f\"solution: {s}\\n\"\n",
        "\n",
        "        if verbose == 1:\n",
        "            print(f\"obj1: {all_runs_fronts[run_index][gen_index][solution_index][0]}\")\n",
        "        output += f\"obj1: {all_runs_fronts[run_index][gen_index][solution_index][0]}\\n\"\n",
        "        \n",
        "        if verbose == 1:\n",
        "            print(f\"obj2: {all_runs_fronts[run_index][gen_index][solution_index][1]}\")\n",
        "        output += f\"obj2: {all_runs_fronts[run_index][gen_index][solution_index][1]}\\n\"\n",
        "        \n",
        "        if verbose == 1:\n",
        "            print(f\"obj3: {all_runs_fronts[run_index][gen_index][solution_index][2]}\")\n",
        "        output += f\"obj3: {all_runs_fronts[run_index][gen_index][solution_index][2]}\\n\"\n",
        "        \n",
        "        if verbose == 1:\n",
        "            print(\"--------------\")\n",
        "        output += \"--------------\\n\"\n",
        "\n",
        "    with open(f\"run_{run_index}_gen_{gen_index}.txt\", \"w\") as f:\n",
        "        f.write(output)\n",
        "    \n",
        "    \n",
        "for run_index in range(len(all_runs_fronts)):\n",
        "    for gen_index in range(len(all_runs_fronts[run_index])):\n",
        "        save_run_gen_to_file(run_index=run_index, gen_index=gen_index)"
      ]
    },
    {
      "cell_type": "code",
      "execution_count": 17,
      "metadata": {},
      "outputs": [
        {
          "name": "stdout",
          "output_type": "stream",
          "text": [
            "\u001b[1m63/63\u001b[0m \u001b[32m━━━━━━━━━━━━━━━━━━━━\u001b[0m\u001b[37m\u001b[0m \u001b[1m0s\u001b[0m 6ms/step - accuracy: 0.9139 - loss: 0.3823\n",
            "(0.4275261461734772, 0.8995000123977661)\n"
          ]
        }
      ],
      "source": [
        "print(server.evaluate())"
      ]
    },
    {
      "cell_type": "code",
      "execution_count": 18,
      "metadata": {},
      "outputs": [
        {
          "name": "stdout",
          "output_type": "stream",
          "text": [
            "Device 0.0 Accuracy: 0.78\n",
            "Device 1.0 Accuracy: 0.8\n",
            "Device 2.0 Accuracy: 0.97\n",
            "Device 3.0 Accuracy: 0.86\n",
            "Device 4.0 Accuracy: 0.89\n",
            "Device 5.0 Accuracy: 0.81\n",
            "Device 6.0 Accuracy: 0.93\n",
            "Device 7.0 Accuracy: 0.96\n",
            "Device 8.0 Accuracy: 0.84\n",
            "Device 9.0 Accuracy: 0.78\n",
            "Device 10.0 Accuracy: 0.81\n",
            "Device 11.0 Accuracy: 0.89\n",
            "Device 12.0 Accuracy: 0.75\n",
            "Device 13.0 Accuracy: 0.89\n",
            "Device 14.0 Accuracy: 0.84\n",
            "Device 15.0 Accuracy: 0.86\n",
            "Device 16.0 Accuracy: 0.93\n",
            "Device 17.0 Accuracy: 0.93\n",
            "Device 18.0 Accuracy: 0.88\n",
            "Device 19.0 Accuracy: 0.88\n",
            "Device 20.0 Accuracy: 0.81\n",
            "Device 21.0 Accuracy: 0.83\n",
            "Device 22.0 Accuracy: 0.95\n",
            "Device 23.0 Accuracy: 0.87\n",
            "Device 24.0 Accuracy: 0.83\n",
            "Device 25.0 Accuracy: 0.87\n",
            "Device 26.0 Accuracy: 0.85\n",
            "Device 27.0 Accuracy: 0.91\n",
            "Device 28.0 Accuracy: 0.83\n",
            "Device 29.0 Accuracy: 0.91\n"
          ]
        }
      ],
      "source": [
        "accuracies = []\n",
        "\n",
        "for device in server.devices:\n",
        "    x_test = device.test_data[0]\n",
        "    y_test = device.test_data[1]\n",
        "    \n",
        "    loss, accuracy = server.evaluate(x_test, y_test)\n",
        "    \n",
        "    accuracies.append(round(accuracy, 2))\n",
        "    print(f\"Device {device.id} Accuracy: {round(accuracy, 2)}\")\n",
        "\n",
        "VARIANCE = np.var(accuracies)\n",
        "VARIANCE_SCORE = 1.0/VARIANCE\n",
        "MEAN = np.mean(accuracies)\n",
        "STANDARD_DEVIATION = np.std(accuracies)"
      ]
    },
    {
      "cell_type": "code",
      "execution_count": 19,
      "metadata": {},
      "outputs": [
        {
          "name": "stdout",
          "output_type": "stream",
          "text": [
            "MEAN: 0.8646666666666667\n",
            "VARIANCE: 0.003084888888888888\n",
            "STANDARD_DEVIATION: 0.0555417760689095\n",
            "Fairness: 18.004465661294685\n"
          ]
        }
      ],
      "source": [
        "print(f\"MEAN: {MEAN}\")\n",
        "print(f\"VARIANCE: {VARIANCE}\")\n",
        "print(f\"STANDARD_DEVIATION: {STANDARD_DEVIATION}\")\n",
        "print(f\"Fairness: {1.0/STANDARD_DEVIATION}\")"
      ]
    },
    {
      "cell_type": "code",
      "execution_count": 20,
      "metadata": {},
      "outputs": [
        {
          "name": "stdout",
          "output_type": "stream",
          "text": [
            "Round: 1\n",
            "Server Test Accuracy: 0.8015000224113464\n",
            "Variance: 0.006722222222222223\n",
            "Variance Score: 148.76033057851237\n",
            "Mean: 0.7733333333333334\n",
            "Standard Deviation: 0.08198915917499229\n",
            "Fairness: 12.196734422726125\n",
            "---\n",
            "Round: 2\n",
            "Server Test Accuracy: 0.862500011920929\n",
            "Variance: 0.00390988888888889\n",
            "Variance Score: 255.76174372673273\n",
            "Mean: 0.8263333333333333\n",
            "Standard Deviation: 0.06252910433461277\n",
            "Fairness: 15.992552758291366\n",
            "---\n",
            "Round: 3\n",
            "Server Test Accuracy: 0.890999972820282\n",
            "Variance: 0.0026982222222222208\n",
            "Variance Score: 370.614396310328\n",
            "Mean: 0.8553333333333332\n",
            "Standard Deviation: 0.05194441473558269\n",
            "Fairness: 19.25134790892129\n",
            "---\n",
            "Round: 4\n",
            "Server Test Accuracy: 0.8995000123977661\n",
            "Variance: 0.003084888888888888\n",
            "Variance Score: 324.1607837487395\n",
            "Mean: 0.8646666666666667\n",
            "Standard Deviation: 0.0555417760689095\n",
            "Fairness: 18.004465661294685\n",
            "---\n",
            "\n"
          ]
        }
      ],
      "source": [
        "print(needed_values_for_comparison)"
      ]
    },
    {
      "cell_type": "code",
      "execution_count": 21,
      "metadata": {},
      "outputs": [
        {
          "name": "stdout",
          "output_type": "stream",
          "text": [
            "0.8015000224113464\n",
            "0.862500011920929\n",
            "0.890999972820282\n",
            "0.8995000123977661\n",
            "[1, 2, 3, 4]\n",
            "[0.8015000224113464, 0.862500011920929, 0.890999972820282, 0.8995000123977661]\n"
          ]
        }
      ],
      "source": [
        "accuracy_plot_x = []\n",
        "accuracy_plot_y = []\n",
        "\n",
        "for item in needed_values_for_comparison.split(\"---\")[:-1]:\n",
        "    for subitem in item.split(\"\\n\"):\n",
        "        if \"Server Test Accuracy\" in subitem:\n",
        "            print(float(subitem[subitem.find(\": \")+2:]))\n",
        "            accuracy_plot_y.append(float(subitem[subitem.find(\": \")+2:]))\n",
        "        \n",
        "    accuracy_plot_x.append(needed_values_for_comparison.split(\"---\").index(item)+1)\n",
        "        \n",
        "print(accuracy_plot_x)\n",
        "print(accuracy_plot_y)"
      ]
    },
    {
      "cell_type": "code",
      "execution_count": 22,
      "metadata": {},
      "outputs": [
        {
          "data": {
            "image/png": "[encoded data removed]",
            "text/plain": [
              "<Figure size 640x480 with 1 Axes>"
            ]
          },
          "metadata": {},
          "output_type": "display_data"
        }
      ],
      "source": [
        "import matplotlib.pyplot as plt\n",
        "\n",
        "# Example points (replace with your own x and y values)\n",
        "x = accuracy_plot_x\n",
        "y = accuracy_plot_y\n",
        "\n",
        "# Scatter plot of points\n",
        "plt.scatter(x, y, color='red', zorder=2)\n",
        "\n",
        "# Plot line with markers\n",
        "plt.plot(x, y, marker='o', linestyle='-', color='blue')\n",
        "\n",
        "# Highlight the points explicitly if you like\n",
        "plt.scatter(x, y, color='red')\n",
        "\n",
        "plt.xlabel(\"Round Index\")\n",
        "plt.ylabel(\"Global Test Accuracy\")\n",
        "plt.title(\"Global Test Accuracy vs. Round Index\")\n",
        "plt.grid(True)\n",
        "plt.show()\n"
      ]
    }
  ],
  "metadata": {
    "colab": {
      "provenance": []
    },
    "kernelspec": {
      "display_name": "venv (3.13.1)",
      "language": "python",
      "name": "python3"
    },
    "language_info": {
      "codemirror_mode": {
        "name": "ipython",
        "version": 3
      },
      "file_extension": ".py",
      "mimetype": "text/x-python",
      "name": "python",
      "nbconvert_exporter": "python",
      "pygments_lexer": "ipython3",
      "version": "3.13.1"
    }
  },
  "nbformat": 4,
  "nbformat_minor": 0
}
