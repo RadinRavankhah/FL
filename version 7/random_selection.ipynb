{
  "cells": [
    {
      "cell_type": "markdown",
      "metadata": {
        "id": "7cM8_9f7DQ0P"
      },
      "source": [
        "## Imports"
      ]
    },
    {
      "cell_type": "code",
      "execution_count": 14,
      "metadata": {
        "colab": {
          "base_uri": "https://localhost:8080/"
        },
        "id": "8cE4i_ysDeI4",
        "outputId": "206a1e08-bf7c-4146-db82-e4b11c33880a"
      },
      "outputs": [
        {
          "name": "stdout",
          "output_type": "stream",
          "text": [
            "Requirement already satisfied: pymoo in d:\\github repos\\fl\\venv\\lib\\site-packages (0.6.1.3)\n",
            "Requirement already satisfied: numpy>=1.15 in d:\\github repos\\fl\\venv\\lib\\site-packages (from pymoo) (2.0.2)\n",
            "Requirement already satisfied: scipy>=1.1 in d:\\github repos\\fl\\venv\\lib\\site-packages (from pymoo) (1.14.1)\n",
            "Requirement already satisfied: matplotlib>=3 in d:\\github repos\\fl\\venv\\lib\\site-packages (from pymoo) (3.10.0)\n",
            "Requirement already satisfied: autograd>=1.4 in d:\\github repos\\fl\\venv\\lib\\site-packages (from pymoo) (1.7.0)\n",
            "Requirement already satisfied: cma==3.2.2 in d:\\github repos\\fl\\venv\\lib\\site-packages (from pymoo) (3.2.2)\n",
            "Requirement already satisfied: alive-progress in d:\\github repos\\fl\\venv\\lib\\site-packages (from pymoo) (3.2.0)\n",
            "Requirement already satisfied: dill in d:\\github repos\\fl\\venv\\lib\\site-packages (from pymoo) (0.3.9)\n",
            "Requirement already satisfied: Deprecated in d:\\github repos\\fl\\venv\\lib\\site-packages (from pymoo) (1.2.15)\n",
            "Requirement already satisfied: contourpy>=1.0.1 in d:\\github repos\\fl\\venv\\lib\\site-packages (from matplotlib>=3->pymoo) (1.3.1)\n",
            "Requirement already satisfied: cycler>=0.10 in d:\\github repos\\fl\\venv\\lib\\site-packages (from matplotlib>=3->pymoo) (0.12.1)\n",
            "Requirement already satisfied: fonttools>=4.22.0 in d:\\github repos\\fl\\venv\\lib\\site-packages (from matplotlib>=3->pymoo) (4.55.3)\n",
            "Requirement already satisfied: kiwisolver>=1.3.1 in d:\\github repos\\fl\\venv\\lib\\site-packages (from matplotlib>=3->pymoo) (1.4.8)\n",
            "Requirement already satisfied: packaging>=20.0 in d:\\github repos\\fl\\venv\\lib\\site-packages (from matplotlib>=3->pymoo) (24.2)\n",
            "Requirement already satisfied: pillow>=8 in d:\\github repos\\fl\\venv\\lib\\site-packages (from matplotlib>=3->pymoo) (11.1.0)\n",
            "Requirement already satisfied: pyparsing>=2.3.1 in d:\\github repos\\fl\\venv\\lib\\site-packages (from matplotlib>=3->pymoo) (3.2.1)\n",
            "Requirement already satisfied: python-dateutil>=2.7 in d:\\github repos\\fl\\venv\\lib\\site-packages (from matplotlib>=3->pymoo) (2.9.0.post0)\n",
            "Requirement already satisfied: six>=1.5 in d:\\github repos\\fl\\venv\\lib\\site-packages (from python-dateutil>=2.7->matplotlib>=3->pymoo) (1.17.0)\n",
            "Requirement already satisfied: about-time==4.2.1 in d:\\github repos\\fl\\venv\\lib\\site-packages (from alive-progress->pymoo) (4.2.1)\n",
            "Requirement already satisfied: grapheme==0.6.0 in d:\\github repos\\fl\\venv\\lib\\site-packages (from alive-progress->pymoo) (0.6.0)\n",
            "Requirement already satisfied: wrapt<2,>=1.10 in d:\\github repos\\fl\\venv\\lib\\site-packages (from Deprecated->pymoo) (1.17.0)\n"
          ]
        },
        {
          "name": "stderr",
          "output_type": "stream",
          "text": [
            "\n",
            "[notice] A new release of pip is available: 25.1.1 -> 25.2\n",
            "[notice] To update, run: python.exe -m pip install --upgrade pip\n"
          ]
        }
      ],
      "source": [
        "!pip install pymoo"
      ]
    },
    {
      "cell_type": "code",
      "execution_count": 15,
      "metadata": {
        "id": "7ZDVPjAODQ0R"
      },
      "outputs": [],
      "source": [
        "# IMPORTS\n",
        "import numpy as np\n",
        "import pandas as pd\n",
        "import tensorflow as tf\n",
        "from tensorflow import keras\n",
        "from keras import layers\n",
        "import random\n",
        "from tensorflow.keras.models import clone_model\n",
        "from keras.utils import to_categorical\n"
      ]
    },
    {
      "cell_type": "markdown",
      "metadata": {
        "id": "k6jG5c5fDQ0S"
      },
      "source": [
        "## Classes"
      ]
    },
    {
      "cell_type": "code",
      "execution_count": 16,
      "metadata": {
        "id": "eRjGPts0DQ0T"
      },
      "outputs": [],
      "source": [
        "# CLASSES\n",
        "\n",
        "class Server:\n",
        "    def __init__(self, devices_list):\n",
        "        self.model = Server.create_model()\n",
        "        self.current_learning_iteration = 0\n",
        "        self.LAST_WEIGHTS_SENT_FOR_ALL_DEVICES = []\n",
        "        self.x_test_global = []\n",
        "        self.y_test_global = []\n",
        "        self.devices = devices_list\n",
        "\n",
        "    def evaluate(self, x_test=None, y_test=None, verbose = 0):\n",
        "        if x_test is None and y_test is None:\n",
        "            test_loss, test_acc = self.model.evaluate(self.x_test_global, self.y_test_global, verbose)\n",
        "            return test_loss, test_acc\n",
        "        test_loss, test_acc = self.model.evaluate(x_test, y_test, verbose=verbose)\n",
        "        return test_loss, test_acc\n",
        "\n",
        "    def get_weights(self):\n",
        "        return self.model.get_weights()\n",
        "\n",
        "    def set_aggregated_weight(self):\n",
        "        self.model.set_weight(Server.aggregate_weights())\n",
        "\n",
        "    def give_global_model_weights_to_bitstring_devices(self, bitstring):\n",
        "        for device in self.devices:\n",
        "            if int(bitstring[int(device.id)]) == 1:\n",
        "                device.model.set_weights(self.model.get_weights())\n",
        "\n",
        "    def create_model():\n",
        "        model = keras.Sequential([\n",
        "            layers.Conv2D(32, kernel_size=(3, 3), activation='relu', input_shape=(28, 28, 1)),\n",
        "            layers.MaxPooling2D(pool_size=(2, 2)),\n",
        "            layers.Flatten(),\n",
        "            layers.Dense(128, activation='relu'),\n",
        "            layers.Dense(10, activation='softmax')\n",
        "        ])\n",
        "        model.compile(optimizer=keras.optimizers.SGD(learning_rate=0.01),\n",
        "                        # new\n",
        "                        loss='categorical_crossentropy', metrics=['accuracy'])\n",
        "        return model\n",
        "\n",
        "    def aggregate_weights(self, bitstring):\n",
        "        \"\"\"Computes the weighted average of model weights from all devices and updates the global model.\"\"\"\n",
        "        def sum_all_nested_lists(list_of_lists):\n",
        "            def recursive_sum(lists):\n",
        "                if isinstance(lists[0], list):\n",
        "                    return [recursive_sum([lst[i] for lst in lists]) for i in range(len(lists[0]))]\n",
        "                else:\n",
        "                    return sum(lists)\n",
        "\n",
        "            return recursive_sum(list_of_lists)\n",
        "\n",
        "        def multiply_nested_list(lst, factor):\n",
        "            result = []\n",
        "            for item in lst:\n",
        "                if isinstance(item, list):\n",
        "                    # Recursively handle sublists\n",
        "                    result.append(multiply_nested_list(item, factor))\n",
        "                else:\n",
        "                    # Multiply number\n",
        "                    result.append(item * factor)\n",
        "            return result\n",
        "\n",
        "        selected_devices = []\n",
        "        for device in self.devices:\n",
        "            if int(bitstring[int(device.id)]) == 1:\n",
        "                selected_devices.append(device)\n",
        "\n",
        "        num_devices = len(selected_devices)\n",
        "        if num_devices == 0:\n",
        "            print(\"No devices available for aggregation.\")\n",
        "            return\n",
        "\n",
        "        device_participation_ratio = []\n",
        "        data_lengths = []\n",
        "\n",
        "        for device in selected_devices:\n",
        "            # print(\"*******************\")\n",
        "            # print(device.id)\n",
        "            device_participation_ratio.append(device.last_round_participated / self.current_learning_iteration)\n",
        "            # print(\"this device's participation ratio:\")\n",
        "            # print(device.last_round_participated / self.current_learning_iteration)\n",
        "            data_lengths.append(len(device.data[0]))\n",
        "            # print(\"this device's data to all ratio:\")\n",
        "            # print(len(device.data[0])/60000.0)\n",
        "\n",
        "        sum_data = 0\n",
        "        for data_len in data_lengths:\n",
        "            sum_data += data_len\n",
        "\n",
        "        data_fractions = []\n",
        "        for device in selected_devices:\n",
        "            data_fractions.append(len(device.data[0])/float(sum_data))\n",
        "\n",
        "\n",
        "\n",
        "        # new\n",
        "        combined_weights = [fraction * ratio for fraction, ratio in zip(data_fractions, device_participation_ratio)]\n",
        "        total_weight = sum(combined_weights)\n",
        "        normalized_weights = [w / total_weight for w in combined_weights]\n",
        "        print(normalized_weights)\n",
        "\n",
        "\n",
        "        aggregated_weights_devices = []\n",
        "        for d in range(len(selected_devices)):\n",
        "            # aggregated_weights_devices.append(multiply_nested_list(selected_devices[d].model.get_weights(), data_fractions[d]*device_participation_ratio[d]))\n",
        "            aggregated_weights_devices.append(multiply_nested_list(self.LAST_WEIGHTS_SENT_FOR_ALL_DEVICES[int(selected_devices[d].id)], normalized_weights[d]))\n",
        "\n",
        "        aggregated_weights = sum_all_nested_lists(aggregated_weights_devices)\n",
        "        # TODO: Weighted multiplication for each node in each layer of the neural network of the received devices and then summing\n",
        "        #       the related parts together so that we get a full weighted average of all these devices' models\n",
        "\n",
        "        print(\"Aggregated weights:\")\n",
        "        for layer_idx, layer_weights in enumerate(aggregated_weights):\n",
        "            print(f\"Layer {layer_idx}: {layer_weights.shape}\")\n",
        "            \n",
        "        \n",
        "        return aggregated_weights\n",
        "\n",
        "\n",
        "class Device:\n",
        "    def __init__(self, id, ram, storage, cpu, bandwidth, battery, charging):\n",
        "        self.id = id\n",
        "        self.ram = ram\n",
        "        self.storage = storage\n",
        "        self.cpu = cpu\n",
        "        self.bandwidth = bandwidth\n",
        "        self.battery = battery\n",
        "        self.charging = charging\n",
        "        self.model = Server.create_model()\n",
        "        self.last_round_participated = 0\n",
        "        self.data = None  # Placeholder for dataset partition\n",
        "        self.test_data = None\n",
        "        self.number_of_times_fitted = 0\n",
        "        \n",
        "    def lose_battery(self):\n",
        "        if float(self.battery) > 0.3:\n",
        "            self.battery -= 0.3\n",
        "        else:\n",
        "            self.battery = 0\n",
        "        \n"
      ]
    },
    {
      "cell_type": "markdown",
      "metadata": {
        "id": "E3jpr0sQDQ0U"
      },
      "source": [
        "## Functions"
      ]
    },
    {
      "cell_type": "code",
      "execution_count": 17,
      "metadata": {
        "id": "YSAsTf5GDQ0V"
      },
      "outputs": [],
      "source": [
        "# Functions\n",
        "\n",
        "def fit_bitstring_devices(bitstring, server: Server, epochs=7):\n",
        "    '''\n",
        "    server: for using its \"current_learning_iteration\" variable\n",
        "    '''\n",
        "\n",
        "    server.current_learning_iteration += 1\n",
        "    for device in server.devices:\n",
        "        if bitstring[int(device.id)] == 1:\n",
        "            # TODO:\n",
        "            # makes it so that the random selection might choose a device that's been turned off\n",
        "            # if the device is off, don't fit, use old weights saved on the server.\n",
        "            # if the device is on, fit, update the weights saved on the server.\n",
        "            if device.battery == 0:\n",
        "                continue\n",
        "            \n",
        "            device.lose_battery()\n",
        "            \n",
        "            device.model.fit(device.data[0], device.data[1], epochs=epochs, verbose=0)\n",
        "            print(device.id)\n",
        "            device.last_round_participated = server.current_learning_iteration\n",
        "            server.LAST_WEIGHTS_SENT_FOR_ALL_DEVICES[int(device.id)] = device.model.get_weights()\n",
        "            device.number_of_times_fitted += 1\n",
        "\n",
        "\n",
        "\n",
        "\n",
        "def niid_labeldir_split(x_data, y_data, num_clients, beta, seed=None):\n",
        "    num_classes = 10\n",
        "    y_indices = np.array([np.argmax(label) for label in y_data])  # From one-hot to class index\n",
        "\n",
        "    rng = np.random.default_rng(seed)  # Local random generator\n",
        "\n",
        "    # Prepare client partitions\n",
        "    client_indices = [[] for _ in range(num_clients)]\n",
        "\n",
        "    for k in range(num_classes):\n",
        "        idx_k = np.where(y_indices == k)[0]\n",
        "        rng.shuffle(idx_k)\n",
        "\n",
        "        # Dirichlet distribution for class k\n",
        "        proportions = rng.dirichlet(np.repeat(beta, num_clients))\n",
        "\n",
        "        # Scale proportions to match the number of available samples\n",
        "        proportions = np.array([int(p * len(idx_k)) for p in proportions])\n",
        "        # Fix total due to rounding\n",
        "        while sum(proportions) < len(idx_k):\n",
        "            proportions[np.argmin(proportions)] += 1\n",
        "        while sum(proportions) > len(idx_k):\n",
        "            proportions[np.argmax(proportions)] -= 1\n",
        "\n",
        "        start = 0\n",
        "        for i in range(num_clients):\n",
        "            size = proportions[i]\n",
        "            client_indices[i].extend(idx_k[start:start + size])\n",
        "            start += size\n",
        "\n",
        "    return client_indices\n",
        "\n"
      ]
    },
    {
      "cell_type": "markdown",
      "metadata": {
        "id": "8I_M11zZDQ0W"
      },
      "source": [
        "## Load Data"
      ]
    },
    {
      "cell_type": "markdown",
      "metadata": {
        "id": "X8SKaZfTDQ0W"
      },
      "source": [
        "### Load Devices"
      ]
    },
    {
      "cell_type": "code",
      "execution_count": 18,
      "metadata": {
        "colab": {
          "base_uri": "https://localhost:8080/"
        },
        "id": "dp1Ba7wUDQ0W",
        "outputId": "5d017ddf-25eb-46b0-f6e3-5ec61e2bf722"
      },
      "outputs": [
        {
          "name": "stderr",
          "output_type": "stream",
          "text": [
            "d:\\Github Repos\\FL\\venv\\Lib\\site-packages\\keras\\src\\layers\\convolutional\\base_conv.py:107: UserWarning: Do not pass an `input_shape`/`input_dim` argument to a layer. When using Sequential models, prefer using an `Input(shape)` object as the first layer in the model instead.\n",
            "  super().__init__(activity_regularizer=activity_regularizer, **kwargs)\n"
          ]
        }
      ],
      "source": [
        "# Load dataset from CSV\n",
        "csv_file = 'devices.csv'\n",
        "df = pd.read_csv(csv_file)\n",
        "df.columns = df.columns.str.strip().str.lower()\n",
        "\n",
        "# Convert CSV rows into device objects\n",
        "devices = []\n",
        "\n",
        "for _, row in df.iterrows():\n",
        "    device = Device(\n",
        "        row['id'], row['ram'], row['storage'], row['cpu'], row['bandwidth'], row['battery'],\n",
        "        row.get('charging', 0)\n",
        "    )\n",
        "    devices.append(device)\n",
        "\n",
        "\n",
        "# LIMIT TO 30 DEVICES\n",
        "devices = devices[:30]"
      ]
    },
    {
      "cell_type": "markdown",
      "metadata": {
        "id": "5dQSqJi6DQ0Y"
      },
      "source": [
        "### Object Initializations"
      ]
    },
    {
      "cell_type": "code",
      "execution_count": 19,
      "metadata": {
        "id": "OvVt3SZzDQ0Z"
      },
      "outputs": [],
      "source": [
        "# Global Model\n",
        "server = Server(devices_list=devices)\n",
        "server.LAST_WEIGHTS_SENT_FOR_ALL_DEVICES = [None for _ in range(len(devices))]"
      ]
    },
    {
      "cell_type": "markdown",
      "metadata": {
        "id": "hodxc61dDQ0Z"
      },
      "source": [
        "### Split Data Among Devices"
      ]
    },
    {
      "cell_type": "code",
      "execution_count": 20,
      "metadata": {
        "colab": {
          "base_uri": "https://localhost:8080/"
        },
        "id": "4ySmgcIuDQ0Z",
        "outputId": "5b32be3b-f118-4bda-c12d-0bfdf1e74f2c"
      },
      "outputs": [],
      "source": [
        "SEED = 1\n",
        "\n",
        "\n",
        "# Load MNIST dataset\n",
        "(x_train, y_train), (x_test, y_test) = keras.datasets.mnist.load_data()\n",
        "\n",
        "# Convert labels to categorical (one-hot encoded)\n",
        "y_train = to_categorical(y_train, num_classes=10)\n",
        "y_test = to_categorical(y_test, num_classes=10)\n",
        "\n",
        "# Normalize data and reshape for CNN\n",
        "x_train = x_train.astype(\"float32\") / 255.0\n",
        "x_train = np.expand_dims(x_train, -1)  # Add channel dimension\n",
        "\n",
        "x_test = x_test.astype(\"float32\") / 255.0\n",
        "x_test = np.expand_dims(x_test, -1)  # Add channel dimension\n",
        "\n",
        "\n",
        "# Lower the amount of data for devices\n",
        "x_train = x_train[:int(len(x_train)/8)]\n",
        "y_train = y_train[:int(len(y_train)/8)]\n",
        "\n",
        "\n",
        "\n",
        "\n",
        "# Correct test split\n",
        "split_index = int(0.8 * len(x_test))\n",
        "x_test_devices, y_test_devices = x_test[:split_index], y_test[:split_index]\n",
        "server.x_test_global, server.y_test_global = x_test[split_index:], y_test[split_index:]\n",
        "\n",
        "# Training data (for devices)\n",
        "x_train_devices, y_train_devices = x_train, y_train\n",
        "\n",
        "# Split training data among devices\n",
        "beta = 0.5  # lower = more skewed\n",
        "num_devices = len(devices)\n",
        "split_indices = niid_labeldir_split(x_train_devices, y_train_devices, num_devices, beta, seed=SEED)\n",
        "\n",
        "for i, device in enumerate(devices):\n",
        "    idxs = split_indices[i]\n",
        "    device.data = (x_train_devices[idxs], y_train_devices[idxs])\n",
        "\n",
        "# Split test data (device-level)\n",
        "split_size = len(x_test_devices) // num_devices\n",
        "\n",
        "for i, device in enumerate(devices):\n",
        "    start = i * split_size\n",
        "    end = (i + 1) * split_size if i < num_devices - 1 else len(x_test_devices)\n",
        "    device.test_data = (x_test_devices[start:end], y_test_devices[start:end])"
      ]
    },
    {
      "cell_type": "markdown",
      "metadata": {
        "id": "TXlJ81PvDQ0Z"
      },
      "source": [
        "### Load Other Data"
      ]
    },
    {
      "cell_type": "code",
      "execution_count": null,
      "metadata": {
        "id": "ROtD_ODCDQ0Z"
      },
      "outputs": [],
      "source": []
    },
    {
      "cell_type": "markdown",
      "metadata": {
        "id": "SOFERpbpDQ0Z"
      },
      "source": [
        "## First Iteration"
      ]
    },
    {
      "cell_type": "code",
      "execution_count": 21,
      "metadata": {
        "colab": {
          "base_uri": "https://localhost:8080/"
        },
        "id": "RtoM8SQmHqJs",
        "outputId": "0b9ad23e-e90e-47f5-f416-bd856dfd56a4"
      },
      "outputs": [
        {
          "name": "stdout",
          "output_type": "stream",
          "text": [
            "[1, 1, 1, 1, 1, 1, 1, 1, 1, 1, 1, 1, 1, 1, 1, 1, 1, 1, 1, 1, 1, 1, 1, 1, 1, 1, 1, 1, 1, 1]\n",
            "\u001b[1m63/63\u001b[0m \u001b[32m━━━━━━━━━━━━━━━━━━━━\u001b[0m\u001b[37m\u001b[0m \u001b[1m0s\u001b[0m 2ms/step - accuracy: 0.0899 - loss: 2.3197 \n",
            "Global Model Accuracy: 0.0965\n",
            "------------------------------------------------------------\n",
            "0.0\n",
            "1.0\n",
            "2.0\n",
            "3.0\n",
            "4.0\n",
            "5.0\n",
            "6.0\n",
            "7.0\n",
            "8.0\n",
            "9.0\n",
            "10.0\n",
            "11.0\n",
            "12.0\n",
            "13.0\n",
            "14.0\n",
            "15.0\n",
            "16.0\n",
            "17.0\n",
            "18.0\n",
            "19.0\n",
            "20.0\n",
            "21.0\n",
            "22.0\n",
            "23.0\n",
            "24.0\n",
            "25.0\n",
            "26.0\n",
            "27.0\n",
            "28.0\n",
            "29.0\n",
            "[0.0408, 0.06426666666666667, 0.0252, 0.020266666666666665, 0.03493333333333333, 0.045066666666666665, 0.0476, 0.0572, 0.014, 0.0424, 0.04346666666666667, 0.028266666666666666, 0.04253333333333333, 0.019333333333333334, 0.03626666666666667, 0.03, 0.021466666666666665, 0.0164, 0.014666666666666666, 0.032933333333333335, 0.0364, 0.027466666666666667, 0.042133333333333335, 0.0112, 0.015733333333333332, 0.019466666666666667, 0.05466666666666667, 0.064, 0.04186666666666667, 0.01]\n",
            "Aggregated weights:\n",
            "Layer 0: (3, 3, 1, 32)\n",
            "Layer 1: (32,)\n",
            "Layer 2: (5408, 128)\n",
            "Layer 3: (128,)\n",
            "Layer 4: (128, 10)\n",
            "Layer 5: (10,)\n",
            "------------------------------------------------------------\n",
            "\u001b[1m63/63\u001b[0m \u001b[32m━━━━━━━━━━━━━━━━━━━━\u001b[0m\u001b[37m\u001b[0m \u001b[1m0s\u001b[0m 1ms/step - accuracy: 0.5708 - loss: 1.8823\n",
            "Global Model Accuracy: 0.5715\n"
          ]
        }
      ],
      "source": [
        "# First Iteration\n",
        "bitstring = [1 for _ in range(len(devices))]\n",
        "print(bitstring)\n",
        "\n",
        "# Load global model weights\n",
        "server.model.load_weights(\"my_model.weights.h5\")\n",
        "\n",
        "# global model sends its weights to all devices\n",
        "server.give_global_model_weights_to_bitstring_devices(bitstring)\n",
        "\n",
        "test_loss, test_acc = server.evaluate(verbose=0)\n",
        "print(f\"Global Model Accuracy: {test_acc:.4f}\")\n",
        "print(\"------------------------------------------------------------\")\n",
        "fit_bitstring_devices(bitstring, server)\n",
        "server.model.set_weights(server.aggregate_weights(bitstring))\n",
        "print(\"------------------------------------------------------------\")\n",
        "test_loss, test_acc = server.evaluate(verbose=0)\n",
        "print(f\"Global Model Accuracy: {test_acc:.4f}\")"
      ]
    },
    {
      "cell_type": "code",
      "execution_count": 22,
      "metadata": {
        "colab": {
          "base_uri": "https://localhost:8080/"
        },
        "id": "l4XliqF4L-Sd",
        "outputId": "613396eb-907f-4edd-8fc4-1446524053b3"
      },
      "outputs": [
        {
          "name": "stdout",
          "output_type": "stream",
          "text": [
            "Requirement already satisfied: pymoo in d:\\github repos\\fl\\venv\\lib\\site-packages (0.6.1.3)\n",
            "Requirement already satisfied: numpy>=1.15 in d:\\github repos\\fl\\venv\\lib\\site-packages (from pymoo) (2.0.2)\n",
            "Requirement already satisfied: scipy>=1.1 in d:\\github repos\\fl\\venv\\lib\\site-packages (from pymoo) (1.14.1)\n",
            "Requirement already satisfied: matplotlib>=3 in d:\\github repos\\fl\\venv\\lib\\site-packages (from pymoo) (3.10.0)\n",
            "Requirement already satisfied: autograd>=1.4 in d:\\github repos\\fl\\venv\\lib\\site-packages (from pymoo) (1.7.0)\n",
            "Requirement already satisfied: cma==3.2.2 in d:\\github repos\\fl\\venv\\lib\\site-packages (from pymoo) (3.2.2)\n",
            "Requirement already satisfied: alive-progress in d:\\github repos\\fl\\venv\\lib\\site-packages (from pymoo) (3.2.0)\n",
            "Requirement already satisfied: dill in d:\\github repos\\fl\\venv\\lib\\site-packages (from pymoo) (0.3.9)\n",
            "Requirement already satisfied: Deprecated in d:\\github repos\\fl\\venv\\lib\\site-packages (from pymoo) (1.2.15)\n",
            "Requirement already satisfied: contourpy>=1.0.1 in d:\\github repos\\fl\\venv\\lib\\site-packages (from matplotlib>=3->pymoo) (1.3.1)\n",
            "Requirement already satisfied: cycler>=0.10 in d:\\github repos\\fl\\venv\\lib\\site-packages (from matplotlib>=3->pymoo) (0.12.1)\n",
            "Requirement already satisfied: fonttools>=4.22.0 in d:\\github repos\\fl\\venv\\lib\\site-packages (from matplotlib>=3->pymoo) (4.55.3)\n",
            "Requirement already satisfied: kiwisolver>=1.3.1 in d:\\github repos\\fl\\venv\\lib\\site-packages (from matplotlib>=3->pymoo) (1.4.8)\n",
            "Requirement already satisfied: packaging>=20.0 in d:\\github repos\\fl\\venv\\lib\\site-packages (from matplotlib>=3->pymoo) (24.2)\n",
            "Requirement already satisfied: pillow>=8 in d:\\github repos\\fl\\venv\\lib\\site-packages (from matplotlib>=3->pymoo) (11.1.0)\n",
            "Requirement already satisfied: pyparsing>=2.3.1 in d:\\github repos\\fl\\venv\\lib\\site-packages (from matplotlib>=3->pymoo) (3.2.1)\n",
            "Requirement already satisfied: python-dateutil>=2.7 in d:\\github repos\\fl\\venv\\lib\\site-packages (from matplotlib>=3->pymoo) (2.9.0.post0)\n",
            "Requirement already satisfied: six>=1.5 in d:\\github repos\\fl\\venv\\lib\\site-packages (from python-dateutil>=2.7->matplotlib>=3->pymoo) (1.17.0)\n",
            "Requirement already satisfied: about-time==4.2.1 in d:\\github repos\\fl\\venv\\lib\\site-packages (from alive-progress->pymoo) (4.2.1)\n",
            "Requirement already satisfied: grapheme==0.6.0 in d:\\github repos\\fl\\venv\\lib\\site-packages (from alive-progress->pymoo) (0.6.0)\n",
            "Requirement already satisfied: wrapt<2,>=1.10 in d:\\github repos\\fl\\venv\\lib\\site-packages (from Deprecated->pymoo) (1.17.0)\n"
          ]
        },
        {
          "name": "stderr",
          "output_type": "stream",
          "text": [
            "\n",
            "[notice] A new release of pip is available: 25.1.1 -> 25.2\n",
            "[notice] To update, run: python.exe -m pip install --upgrade pip\n"
          ]
        }
      ],
      "source": [
        "!pip install pymoo"
      ]
    },
    {
      "cell_type": "markdown",
      "metadata": {
        "id": "6NWyAIYBDQ0a"
      },
      "source": [
        "## Random Selection Loop"
      ]
    },
    {
      "cell_type": "code",
      "execution_count": 23,
      "metadata": {},
      "outputs": [],
      "source": [
        "class Logger:\n",
        "    def __init__(self):\n",
        "        self.variances = []"
      ]
    },
    {
      "cell_type": "code",
      "execution_count": 24,
      "metadata": {
        "id": "hiEDWLPjHqJt"
      },
      "outputs": [],
      "source": [
        "# Parameters\n",
        "NUM_ROUNDS = 4 # should be 4"
      ]
    },
    {
      "cell_type": "code",
      "execution_count": 25,
      "metadata": {},
      "outputs": [],
      "source": [
        "import random\n",
        "\n",
        "def generate_random_binary_list(size):\n",
        "    return [random.randint(0, 1) for _ in range(size)]"
      ]
    },
    {
      "cell_type": "code",
      "execution_count": 26,
      "metadata": {
        "colab": {
          "base_uri": "https://localhost:8080/"
        },
        "id": "FM0EBc17HqJu",
        "outputId": "2f73767f-beaf-451d-eef0-46457ebd604e"
      },
      "outputs": [
        {
          "name": "stdout",
          "output_type": "stream",
          "text": [
            "GLOBAL MODEL BEFORE OPTIMIZATION\n",
            "\u001b[1m63/63\u001b[0m \u001b[32m━━━━━━━━━━━━━━━━━━━━\u001b[0m\u001b[37m\u001b[0m \u001b[1m0s\u001b[0m 2ms/step - accuracy: 0.5708 - loss: 1.8823\n",
            "(1.8952066898345947, 0.5715000033378601)\n",
            "Bitstring:  [1, 1, 1, 1, 0, 1, 0, 1, 1, 1, 0, 0, 1, 0, 1, 1, 1, 1, 1, 1, 1, 1, 0, 1, 1, 0, 1, 0, 0, 0]\n",
            "20 devices selected randomly\n",
            "\u001b[1m63/63\u001b[0m \u001b[32m━━━━━━━━━━━━━━━━━━━━\u001b[0m\u001b[37m\u001b[0m \u001b[1m0s\u001b[0m 2ms/step - accuracy: 0.5708 - loss: 1.8823\n",
            "Global Model Accuracy: 0.5715\n",
            "------------------------------------------------------------\n",
            "1  1\n",
            "1  2\n",
            "1.0\n",
            "2.0\n",
            "3.0\n",
            "5.0\n",
            "8.0\n",
            "12.0\n",
            "14.0\n",
            "15.0\n",
            "17.0\n",
            "18.0\n",
            "19.0\n",
            "20.0\n",
            "21.0\n",
            "23.0\n",
            "26.0\n",
            "2  3\n",
            "[0.03641990002380386, 0.11473458700309451, 0.04498928826469888, 0.036181861461556775, 0.0804570340395144, 0.05105927160199953, 0.024994049035943825, 0.03784813139728636, 0.0759343013568198, 0.06474648893120685, 0.053558676505593907, 0.019162104260890264, 0.029278743156391337, 0.026184241847179244, 0.05879552487502976, 0.06498452749345394, 0.04903594382289931, 0.019995239228755058, 0.014044275172577959, 0.09759581052130446]\n",
            "Aggregated weights:\n",
            "Layer 0: (3, 3, 1, 32)\n",
            "Layer 1: (32,)\n",
            "Layer 2: (5408, 128)\n",
            "Layer 3: (128,)\n",
            "Layer 4: (128, 10)\n",
            "Layer 5: (10,)\n",
            "2  4\n",
            "------------------------------------------------------------\n",
            "\u001b[1m63/63\u001b[0m \u001b[32m━━━━━━━━━━━━━━━━━━━━\u001b[0m\u001b[37m\u001b[0m \u001b[1m0s\u001b[0m 3ms/step - accuracy: 0.7945 - loss: 1.2285\n",
            "Global Model Accuracy: 0.7810\n",
            "Device 0.0 Accuracy: 0.7\n",
            "Device 1.0 Accuracy: 0.69\n",
            "Device 2.0 Accuracy: 0.67\n",
            "Device 3.0 Accuracy: 0.71\n",
            "Device 4.0 Accuracy: 0.59\n",
            "Device 5.0 Accuracy: 0.64\n",
            "Device 6.0 Accuracy: 0.7\n",
            "Device 7.0 Accuracy: 0.7\n",
            "Device 8.0 Accuracy: 0.67\n",
            "Device 9.0 Accuracy: 0.66\n",
            "Device 10.0 Accuracy: 0.68\n",
            "Device 11.0 Accuracy: 0.72\n",
            "Device 12.0 Accuracy: 0.65\n",
            "Device 13.0 Accuracy: 0.65\n",
            "Device 14.0 Accuracy: 0.69\n",
            "Device 15.0 Accuracy: 0.68\n",
            "Device 16.0 Accuracy: 0.59\n",
            "Device 17.0 Accuracy: 0.73\n",
            "Device 18.0 Accuracy: 0.66\n",
            "Device 19.0 Accuracy: 0.76\n",
            "Device 20.0 Accuracy: 0.74\n",
            "Device 21.0 Accuracy: 0.76\n",
            "Device 22.0 Accuracy: 0.71\n",
            "Device 23.0 Accuracy: 0.86\n",
            "Device 24.0 Accuracy: 0.8\n",
            "Device 25.0 Accuracy: 0.69\n",
            "Device 26.0 Accuracy: 0.78\n",
            "Device 27.0 Accuracy: 0.77\n",
            "Device 28.0 Accuracy: 0.73\n",
            "Device 29.0 Accuracy: 0.84\n",
            "GLOBAL MODEL BEFORE OPTIMIZATION\n",
            "\u001b[1m63/63\u001b[0m \u001b[32m━━━━━━━━━━━━━━━━━━━━\u001b[0m\u001b[37m\u001b[0m \u001b[1m0s\u001b[0m 3ms/step - accuracy: 0.7945 - loss: 1.2285\n",
            "(1.2631891965866089, 0.781000018119812)\n",
            "Bitstring:  [1, 0, 1, 0, 1, 1, 0, 0, 0, 0, 1, 0, 1, 0, 1, 0, 1, 0, 0, 1, 0, 0, 1, 1, 0, 0, 1, 0, 1, 0]\n",
            "13 devices selected randomly\n",
            "\u001b[1m63/63\u001b[0m \u001b[32m━━━━━━━━━━━━━━━━━━━━\u001b[0m\u001b[37m\u001b[0m \u001b[1m0s\u001b[0m 3ms/step - accuracy: 0.7945 - loss: 1.2285\n",
            "Global Model Accuracy: 0.7810\n",
            "------------------------------------------------------------\n",
            "2  1\n",
            "2  2\n",
            "4.0\n",
            "5.0\n",
            "10.0\n",
            "12.0\n",
            "14.0\n",
            "19.0\n",
            "28.0\n",
            "3  3\n",
            "[0.03650244542526542, 0.04509125611356316, 0.09376118334725039, 0.12095908386019324, 0.1166646785160444, 0.11415960873195753, 0.09733985446737445, 0.01920553501133246, 0.08839317666706431, 0.03769533579864011, 0.020040558272694742, 0.09781701061672432, 0.1123702731718955]\n",
            "Aggregated weights:\n",
            "Layer 0: (3, 3, 1, 32)\n",
            "Layer 1: (32,)\n",
            "Layer 2: (5408, 128)\n",
            "Layer 3: (128,)\n",
            "Layer 4: (128, 10)\n",
            "Layer 5: (10,)\n",
            "3  4\n",
            "------------------------------------------------------------\n",
            "\u001b[1m63/63\u001b[0m \u001b[32m━━━━━━━━━━━━━━━━━━━━\u001b[0m\u001b[37m\u001b[0m \u001b[1m0s\u001b[0m 3ms/step - accuracy: 0.8418 - loss: 0.8815\n",
            "Global Model Accuracy: 0.8375\n",
            "Device 0.0 Accuracy: 0.74\n",
            "Device 1.0 Accuracy: 0.72\n",
            "Device 2.0 Accuracy: 0.75\n",
            "Device 3.0 Accuracy: 0.77\n",
            "Device 4.0 Accuracy: 0.68\n",
            "Device 5.0 Accuracy: 0.71\n",
            "Device 6.0 Accuracy: 0.73\n",
            "Device 7.0 Accuracy: 0.73\n",
            "Device 8.0 Accuracy: 0.73\n",
            "Device 9.0 Accuracy: 0.71\n",
            "Device 10.0 Accuracy: 0.76\n",
            "Device 11.0 Accuracy: 0.77\n",
            "Device 12.0 Accuracy: 0.74\n",
            "Device 13.0 Accuracy: 0.71\n",
            "Device 14.0 Accuracy: 0.73\n",
            "Device 15.0 Accuracy: 0.75\n",
            "Device 16.0 Accuracy: 0.65\n",
            "Device 17.0 Accuracy: 0.8\n",
            "Device 18.0 Accuracy: 0.73\n",
            "Device 19.0 Accuracy: 0.83\n",
            "Device 20.0 Accuracy: 0.82\n",
            "Device 21.0 Accuracy: 0.82\n",
            "Device 22.0 Accuracy: 0.74\n",
            "Device 23.0 Accuracy: 0.91\n",
            "Device 24.0 Accuracy: 0.86\n",
            "Device 25.0 Accuracy: 0.71\n",
            "Device 26.0 Accuracy: 0.83\n",
            "Device 27.0 Accuracy: 0.8\n",
            "Device 28.0 Accuracy: 0.8\n",
            "Device 29.0 Accuracy: 0.83\n",
            "GLOBAL MODEL BEFORE OPTIMIZATION\n",
            "\u001b[1m63/63\u001b[0m \u001b[32m━━━━━━━━━━━━━━━━━━━━\u001b[0m\u001b[37m\u001b[0m \u001b[1m0s\u001b[0m 2ms/step - accuracy: 0.8418 - loss: 0.8815\n",
            "(0.9184657335281372, 0.8374999761581421)\n",
            "Bitstring:  [0, 1, 0, 0, 0, 1, 1, 0, 0, 0, 0, 1, 1, 1, 0, 1, 0, 1, 0, 0, 1, 1, 1, 1, 1, 1, 1, 1, 1, 0]\n",
            "17 devices selected randomly\n",
            "\u001b[1m63/63\u001b[0m \u001b[32m━━━━━━━━━━━━━━━━━━━━\u001b[0m\u001b[37m\u001b[0m \u001b[1m0s\u001b[0m 2ms/step - accuracy: 0.8418 - loss: 0.8815\n",
            "Global Model Accuracy: 0.8375\n",
            "------------------------------------------------------------\n",
            "3  1\n",
            "3  2\n",
            "1.0\n",
            "6.0\n",
            "11.0\n",
            "12.0\n",
            "13.0\n",
            "20.0\n",
            "21.0\n",
            "25.0\n",
            "27.0\n",
            "4  3\n",
            "[0.1324721725985983, 0.06967156795382712, 0.09811735605331867, 0.05826576886079428, 0.08767349182355366, 0.039851587192524386, 0.03091933489075168, 0.016902569740277585, 0.07503091933489076, 0.056616737666620856, 0.021712244056616734, 0.011543218359213962, 0.008107736704685998, 0.04012642572488663, 0.05634189913425862, 0.13192249553387386, 0.06472447437130685]\n",
            "Aggregated weights:\n",
            "Layer 0: (3, 3, 1, 32)\n",
            "Layer 1: (32,)\n",
            "Layer 2: (5408, 128)\n",
            "Layer 3: (128,)\n",
            "Layer 4: (128, 10)\n",
            "Layer 5: (10,)\n",
            "4  4\n",
            "------------------------------------------------------------\n",
            "\u001b[1m63/63\u001b[0m \u001b[32m━━━━━━━━━━━━━━━━━━━━\u001b[0m\u001b[37m\u001b[0m \u001b[1m0s\u001b[0m 1ms/step - accuracy: 0.8764 - loss: 0.6627\n",
            "Global Model Accuracy: 0.8685\n",
            "Device 0.0 Accuracy: 0.8\n",
            "Device 1.0 Accuracy: 0.79\n",
            "Device 2.0 Accuracy: 0.79\n",
            "Device 3.0 Accuracy: 0.78\n",
            "Device 4.0 Accuracy: 0.74\n",
            "Device 5.0 Accuracy: 0.77\n",
            "Device 6.0 Accuracy: 0.77\n",
            "Device 7.0 Accuracy: 0.77\n",
            "Device 8.0 Accuracy: 0.76\n",
            "Device 9.0 Accuracy: 0.74\n",
            "Device 10.0 Accuracy: 0.8\n",
            "Device 11.0 Accuracy: 0.8\n",
            "Device 12.0 Accuracy: 0.77\n",
            "Device 13.0 Accuracy: 0.77\n",
            "Device 14.0 Accuracy: 0.74\n",
            "Device 15.0 Accuracy: 0.79\n",
            "Device 16.0 Accuracy: 0.71\n",
            "Device 17.0 Accuracy: 0.8\n",
            "Device 18.0 Accuracy: 0.79\n",
            "Device 19.0 Accuracy: 0.86\n",
            "Device 20.0 Accuracy: 0.88\n",
            "Device 21.0 Accuracy: 0.84\n",
            "Device 22.0 Accuracy: 0.79\n",
            "Device 23.0 Accuracy: 0.95\n",
            "Device 24.0 Accuracy: 0.88\n",
            "Device 25.0 Accuracy: 0.82\n",
            "Device 26.0 Accuracy: 0.89\n",
            "Device 27.0 Accuracy: 0.85\n",
            "Device 28.0 Accuracy: 0.84\n",
            "Device 29.0 Accuracy: 0.87\n",
            "GLOBAL MODEL BEFORE OPTIMIZATION\n",
            "\u001b[1m63/63\u001b[0m \u001b[32m━━━━━━━━━━━━━━━━━━━━\u001b[0m\u001b[37m\u001b[0m \u001b[1m0s\u001b[0m 1ms/step - accuracy: 0.8764 - loss: 0.6627\n",
            "(0.7062351703643799, 0.8684999942779541)\n",
            "Bitstring:  [1, 0, 1, 0, 1, 0, 0, 0, 0, 0, 1, 0, 0, 1, 0, 1, 1, 0, 0, 1, 0, 0, 0, 0, 1, 1, 0, 0, 0, 1]\n",
            "11 devices selected randomly\n",
            "\u001b[1m63/63\u001b[0m \u001b[32m━━━━━━━━━━━━━━━━━━━━\u001b[0m\u001b[37m\u001b[0m \u001b[1m0s\u001b[0m 1ms/step - accuracy: 0.8764 - loss: 0.6627\n",
            "Global Model Accuracy: 0.8685\n",
            "------------------------------------------------------------\n",
            "4  1\n",
            "4  2\n",
            "5  3\n",
            "[0.0593368237347295, 0.07329842931937174, 0.15241419429901104, 0.1896451425247237, 0.11246848943184022, 0.08726003490401397, 0.03121970137676944, 0.14368819080860964, 0.02288152026371922, 0.11324413418654257, 0.014543339150668994]\n",
            "Aggregated weights:\n",
            "Layer 0: (3, 3, 1, 32)\n",
            "Layer 1: (32,)\n",
            "Layer 2: (5408, 128)\n",
            "Layer 3: (128,)\n",
            "Layer 4: (128, 10)\n",
            "Layer 5: (10,)\n",
            "5  4\n",
            "------------------------------------------------------------\n",
            "\u001b[1m63/63\u001b[0m \u001b[32m━━━━━━━━━━━━━━━━━━━━\u001b[0m\u001b[37m\u001b[0m \u001b[1m0s\u001b[0m 1ms/step - accuracy: 0.8517 - loss: 0.9434\n",
            "Global Model Accuracy: 0.8230\n",
            "Device 0.0 Accuracy: 0.73\n",
            "Device 1.0 Accuracy: 0.71\n",
            "Device 2.0 Accuracy: 0.75\n",
            "Device 3.0 Accuracy: 0.77\n",
            "Device 4.0 Accuracy: 0.68\n",
            "Device 5.0 Accuracy: 0.7\n",
            "Device 6.0 Accuracy: 0.72\n",
            "Device 7.0 Accuracy: 0.74\n",
            "Device 8.0 Accuracy: 0.71\n",
            "Device 9.0 Accuracy: 0.72\n",
            "Device 10.0 Accuracy: 0.78\n",
            "Device 11.0 Accuracy: 0.74\n",
            "Device 12.0 Accuracy: 0.7\n",
            "Device 13.0 Accuracy: 0.72\n",
            "Device 14.0 Accuracy: 0.69\n",
            "Device 15.0 Accuracy: 0.71\n",
            "Device 16.0 Accuracy: 0.67\n",
            "Device 17.0 Accuracy: 0.8\n",
            "Device 18.0 Accuracy: 0.69\n",
            "Device 19.0 Accuracy: 0.83\n",
            "Device 20.0 Accuracy: 0.76\n",
            "Device 21.0 Accuracy: 0.76\n",
            "Device 22.0 Accuracy: 0.71\n",
            "Device 23.0 Accuracy: 0.88\n",
            "Device 24.0 Accuracy: 0.82\n",
            "Device 25.0 Accuracy: 0.73\n",
            "Device 26.0 Accuracy: 0.83\n",
            "Device 27.0 Accuracy: 0.78\n",
            "Device 28.0 Accuracy: 0.77\n",
            "Device 29.0 Accuracy: 0.79\n"
          ]
        }
      ],
      "source": [
        "\n",
        "all_runs_fronts = []  # Stores results across runs\n",
        "all_runs_solutions = []\n",
        "\n",
        "needed_values_for_comparison = \"\"\n",
        "\n",
        "logger = Logger()\n",
        "\n",
        "for i in range(NUM_ROUNDS):\n",
        "    # Step 3: Run Optimization\n",
        "    print(\"GLOBAL MODEL BEFORE OPTIMIZATION\")\n",
        "    print(server.evaluate())\n",
        "\n",
        "    bitstring = generate_random_binary_list(len(devices))\n",
        "    \n",
        "    \n",
        "    \n",
        "    print(\"Bitstring: \", bitstring)\n",
        "    print(bitstring.count(1), \"devices selected randomly\")\n",
        "\n",
        "    a = server.model.get_weights()\n",
        "    test_loss, test_acc = server.evaluate()\n",
        "    print(f\"Global Model Accuracy: {test_acc:.4f}\")\n",
        "    print(\"------------------------------------------------------------\")\n",
        "    print(server.current_learning_iteration, \" 1\")\n",
        "    server.give_global_model_weights_to_bitstring_devices(bitstring)\n",
        "    print(server.current_learning_iteration, \" 2\")\n",
        "    fit_bitstring_devices(bitstring, server=server, epochs=7)\n",
        "    print(server.current_learning_iteration, \" 3\")\n",
        "    server.model.set_weights(server.aggregate_weights(bitstring))\n",
        "    print(server.current_learning_iteration, \" 4\")\n",
        "    print(\"------------------------------------------------------------\")\n",
        "    test_loss, test_acc = server.evaluate()\n",
        "    print(f\"Global Model Accuracy: {test_acc:.4f}\")\n",
        "    \n",
        "    accuracies = []\n",
        "    for device in devices:\n",
        "        loss, acc = server.evaluate(x_test=device.test_data[0], y_test=device.test_data[1], verbose=0)\n",
        "        accuracies.append(acc)\n",
        "    \n",
        "    logger.variances.append([i,i,bitstring,1.0/np.var(accuracies)])\n",
        "    \n",
        "    \n",
        "    \n",
        "    # ---\n",
        "    \n",
        "    accuracies = []\n",
        "\n",
        "    for device in server.devices:\n",
        "        x_test = device.test_data[0]\n",
        "        y_test = device.test_data[1]\n",
        "        \n",
        "        loss, accuracy = server.evaluate(x_test, y_test)\n",
        "        \n",
        "        accuracies.append(round(accuracy, 2))\n",
        "        print(f\"Device {device.id} Accuracy: {round(accuracy, 2)}\")\n",
        "\n",
        "    VARIANCE = np.var(accuracies)\n",
        "    VARIANCE_SCORE = 1.0/VARIANCE\n",
        "    MEAN = np.mean(accuracies)\n",
        "    STANDARD_DEVIATION = np.std(accuracies)\n",
        "    FAIRNESS = 1.0/STANDARD_DEVIATION\n",
        "    \n",
        "    needed_values_for_comparison += f\"Round: {i+1}\\nServer Test Accuracy: {test_acc}\\nVariance: {VARIANCE}\\nVariance Score: {VARIANCE_SCORE}\\nMean: {MEAN}\\nStandard Deviation: {STANDARD_DEVIATION}\\nFairness: {FAIRNESS}\\n---\\n\""
      ]
    },
    {
      "cell_type": "code",
      "execution_count": 27,
      "metadata": {},
      "outputs": [
        {
          "name": "stdout",
          "output_type": "stream",
          "text": [
            "[0, 0, [1, 1, 1, 1, 0, 1, 0, 1, 1, 1, 0, 0, 1, 0, 1, 1, 1, 1, 1, 1, 1, 1, 0, 1, 1, 0, 1, 0, 0, 0], np.float64(251.74037852038992)]\n",
            "[1, 1, [1, 0, 1, 0, 1, 1, 0, 0, 0, 0, 1, 0, 1, 0, 1, 0, 1, 0, 0, 1, 0, 0, 1, 1, 0, 0, 1, 0, 1, 0], np.float64(303.37983162871393)]\n",
            "[2, 2, [0, 1, 0, 0, 0, 1, 1, 0, 0, 0, 0, 1, 1, 1, 0, 1, 0, 1, 0, 0, 1, 1, 1, 1, 1, 1, 1, 1, 1, 0], np.float64(376.0780963999203)]\n",
            "[3, 3, [1, 0, 1, 0, 1, 0, 0, 0, 0, 0, 1, 0, 0, 1, 0, 1, 1, 0, 0, 1, 0, 0, 0, 0, 1, 1, 0, 0, 0, 1], np.float64(397.18304704440254)]\n",
            "   round_idx  gen_idx                                          bitstring  \\\n",
            "0          0        0  [1, 1, 1, 1, 0, 1, 0, 1, 1, 1, 0, 0, 1, 0, 1, ...   \n",
            "\n",
            "     variance  \n",
            "0  251.740379  \n",
            "   round_idx  gen_idx                                          bitstring  \\\n",
            "1          1        1  [1, 0, 1, 0, 1, 1, 0, 0, 0, 0, 1, 0, 1, 0, 1, ...   \n",
            "\n",
            "     variance  \n",
            "1  303.379832  \n",
            "   round_idx  gen_idx                                          bitstring  \\\n",
            "2          2        2  [0, 1, 0, 0, 0, 1, 1, 0, 0, 0, 0, 1, 1, 1, 0, ...   \n",
            "\n",
            "     variance  \n",
            "2  376.078096  \n",
            "   round_idx  gen_idx                                          bitstring  \\\n",
            "3          3        3  [1, 0, 1, 0, 1, 0, 0, 0, 0, 0, 1, 0, 0, 1, 0, ...   \n",
            "\n",
            "     variance  \n",
            "3  397.183047  \n"
          ]
        },
        {
          "data": {
            "application/vnd.plotly.v1+json": {
              "config": {
                "plotlyServerURL": "https://plot.ly"
              },
              "data": [
                {
                  "hovertemplate": "Gen: %{x}<br>Variance: %{y}<br>%{text}",
                  "mode": "lines+markers",
                  "name": "Round 0",
                  "text": [
                    "Bitstring: [1, 1, 1, 1, 0, 1, 0, 1, 1, 1, 0, 0, 1, 0, 1, 1, 1, 1, 1, 1, 1, 1, 0, 1, 1, 0, 1, 0, 0, 0]"
                  ],
                  "type": "scatter",
                  "x": {
                    "bdata": "AA==",
                    "dtype": "i1"
                  },
                  "y": {
                    "bdata": "indLLrF3b0A=",
                    "dtype": "f8"
                  }
                },
                {
                  "hovertemplate": "Gen: %{x}<br>Variance: %{y}<br>%{text}",
                  "mode": "lines+markers",
                  "name": "Round 1",
                  "text": [
                    "Bitstring: [1, 0, 1, 0, 1, 1, 0, 0, 0, 0, 1, 0, 1, 0, 1, 0, 1, 0, 0, 1, 0, 0, 1, 1, 0, 0, 1, 0, 1, 0]"
                  ],
                  "type": "scatter",
                  "x": {
                    "bdata": "AQ==",
                    "dtype": "i1"
                  },
                  "y": {
                    "bdata": "AXVUyhP2ckA=",
                    "dtype": "f8"
                  }
                },
                {
                  "hovertemplate": "Gen: %{x}<br>Variance: %{y}<br>%{text}",
                  "mode": "lines+markers",
                  "name": "Round 2",
                  "text": [
                    "Bitstring: [0, 1, 0, 0, 0, 1, 1, 0, 0, 0, 0, 1, 1, 1, 0, 1, 0, 1, 0, 0, 1, 1, 1, 1, 1, 1, 1, 1, 1, 0]"
                  ],
                  "type": "scatter",
                  "x": {
                    "bdata": "Ag==",
                    "dtype": "i1"
                  },
                  "y": {
                    "bdata": "fbkC4j+Bd0A=",
                    "dtype": "f8"
                  }
                },
                {
                  "hovertemplate": "Gen: %{x}<br>Variance: %{y}<br>%{text}",
                  "mode": "lines+markers",
                  "name": "Round 3",
                  "text": [
                    "Bitstring: [1, 0, 1, 0, 1, 0, 0, 0, 0, 0, 1, 0, 0, 1, 0, 1, 1, 0, 0, 1, 0, 0, 0, 0, 1, 1, 0, 0, 0, 1]"
                  ],
                  "type": "scatter",
                  "x": {
                    "bdata": "Aw==",
                    "dtype": "i1"
                  },
                  "y": {
                    "bdata": "atW8wu3SeEA=",
                    "dtype": "f8"
                  }
                }
              ],
              "layout": {
                "hovermode": "closest",
                "template": {
                  "data": {
                    "bar": [
                      {
                        "error_x": {
                          "color": "#2a3f5f"
                        },
                        "error_y": {
                          "color": "#2a3f5f"
                        },
                        "marker": {
                          "line": {
                            "color": "#E5ECF6",
                            "width": 0.5
                          },
                          "pattern": {
                            "fillmode": "overlay",
                            "size": 10,
                            "solidity": 0.2
                          }
                        },
                        "type": "bar"
                      }
                    ],
                    "barpolar": [
                      {
                        "marker": {
                          "line": {
                            "color": "#E5ECF6",
                            "width": 0.5
                          },
                          "pattern": {
                            "fillmode": "overlay",
                            "size": 10,
                            "solidity": 0.2
                          }
                        },
                        "type": "barpolar"
                      }
                    ],
                    "carpet": [
                      {
                        "aaxis": {
                          "endlinecolor": "#2a3f5f",
                          "gridcolor": "white",
                          "linecolor": "white",
                          "minorgridcolor": "white",
                          "startlinecolor": "#2a3f5f"
                        },
                        "baxis": {
                          "endlinecolor": "#2a3f5f",
                          "gridcolor": "white",
                          "linecolor": "white",
                          "minorgridcolor": "white",
                          "startlinecolor": "#2a3f5f"
                        },
                        "type": "carpet"
                      }
                    ],
                    "choropleth": [
                      {
                        "colorbar": {
                          "outlinewidth": 0,
                          "ticks": ""
                        },
                        "type": "choropleth"
                      }
                    ],
                    "contour": [
                      {
                        "colorbar": {
                          "outlinewidth": 0,
                          "ticks": ""
                        },
                        "colorscale": [
                          [
                            0,
                            "#0d0887"
                          ],
                          [
                            0.1111111111111111,
                            "#46039f"
                          ],
                          [
                            0.2222222222222222,
                            "#7201a8"
                          ],
                          [
                            0.3333333333333333,
                            "#9c179e"
                          ],
                          [
                            0.4444444444444444,
                            "#bd3786"
                          ],
                          [
                            0.5555555555555556,
                            "#d8576b"
                          ],
                          [
                            0.6666666666666666,
                            "#ed7953"
                          ],
                          [
                            0.7777777777777778,
                            "#fb9f3a"
                          ],
                          [
                            0.8888888888888888,
                            "#fdca26"
                          ],
                          [
                            1,
                            "#f0f921"
                          ]
                        ],
                        "type": "contour"
                      }
                    ],
                    "contourcarpet": [
                      {
                        "colorbar": {
                          "outlinewidth": 0,
                          "ticks": ""
                        },
                        "type": "contourcarpet"
                      }
                    ],
                    "heatmap": [
                      {
                        "colorbar": {
                          "outlinewidth": 0,
                          "ticks": ""
                        },
                        "colorscale": [
                          [
                            0,
                            "#0d0887"
                          ],
                          [
                            0.1111111111111111,
                            "#46039f"
                          ],
                          [
                            0.2222222222222222,
                            "#7201a8"
                          ],
                          [
                            0.3333333333333333,
                            "#9c179e"
                          ],
                          [
                            0.4444444444444444,
                            "#bd3786"
                          ],
                          [
                            0.5555555555555556,
                            "#d8576b"
                          ],
                          [
                            0.6666666666666666,
                            "#ed7953"
                          ],
                          [
                            0.7777777777777778,
                            "#fb9f3a"
                          ],
                          [
                            0.8888888888888888,
                            "#fdca26"
                          ],
                          [
                            1,
                            "#f0f921"
                          ]
                        ],
                        "type": "heatmap"
                      }
                    ],
                    "histogram": [
                      {
                        "marker": {
                          "pattern": {
                            "fillmode": "overlay",
                            "size": 10,
                            "solidity": 0.2
                          }
                        },
                        "type": "histogram"
                      }
                    ],
                    "histogram2d": [
                      {
                        "colorbar": {
                          "outlinewidth": 0,
                          "ticks": ""
                        },
                        "colorscale": [
                          [
                            0,
                            "#0d0887"
                          ],
                          [
                            0.1111111111111111,
                            "#46039f"
                          ],
                          [
                            0.2222222222222222,
                            "#7201a8"
                          ],
                          [
                            0.3333333333333333,
                            "#9c179e"
                          ],
                          [
                            0.4444444444444444,
                            "#bd3786"
                          ],
                          [
                            0.5555555555555556,
                            "#d8576b"
                          ],
                          [
                            0.6666666666666666,
                            "#ed7953"
                          ],
                          [
                            0.7777777777777778,
                            "#fb9f3a"
                          ],
                          [
                            0.8888888888888888,
                            "#fdca26"
                          ],
                          [
                            1,
                            "#f0f921"
                          ]
                        ],
                        "type": "histogram2d"
                      }
                    ],
                    "histogram2dcontour": [
                      {
                        "colorbar": {
                          "outlinewidth": 0,
                          "ticks": ""
                        },
                        "colorscale": [
                          [
                            0,
                            "#0d0887"
                          ],
                          [
                            0.1111111111111111,
                            "#46039f"
                          ],
                          [
                            0.2222222222222222,
                            "#7201a8"
                          ],
                          [
                            0.3333333333333333,
                            "#9c179e"
                          ],
                          [
                            0.4444444444444444,
                            "#bd3786"
                          ],
                          [
                            0.5555555555555556,
                            "#d8576b"
                          ],
                          [
                            0.6666666666666666,
                            "#ed7953"
                          ],
                          [
                            0.7777777777777778,
                            "#fb9f3a"
                          ],
                          [
                            0.8888888888888888,
                            "#fdca26"
                          ],
                          [
                            1,
                            "#f0f921"
                          ]
                        ],
                        "type": "histogram2dcontour"
                      }
                    ],
                    "mesh3d": [
                      {
                        "colorbar": {
                          "outlinewidth": 0,
                          "ticks": ""
                        },
                        "type": "mesh3d"
                      }
                    ],
                    "parcoords": [
                      {
                        "line": {
                          "colorbar": {
                            "outlinewidth": 0,
                            "ticks": ""
                          }
                        },
                        "type": "parcoords"
                      }
                    ],
                    "pie": [
                      {
                        "automargin": true,
                        "type": "pie"
                      }
                    ],
                    "scatter": [
                      {
                        "fillpattern": {
                          "fillmode": "overlay",
                          "size": 10,
                          "solidity": 0.2
                        },
                        "type": "scatter"
                      }
                    ],
                    "scatter3d": [
                      {
                        "line": {
                          "colorbar": {
                            "outlinewidth": 0,
                            "ticks": ""
                          }
                        },
                        "marker": {
                          "colorbar": {
                            "outlinewidth": 0,
                            "ticks": ""
                          }
                        },
                        "type": "scatter3d"
                      }
                    ],
                    "scattercarpet": [
                      {
                        "marker": {
                          "colorbar": {
                            "outlinewidth": 0,
                            "ticks": ""
                          }
                        },
                        "type": "scattercarpet"
                      }
                    ],
                    "scattergeo": [
                      {
                        "marker": {
                          "colorbar": {
                            "outlinewidth": 0,
                            "ticks": ""
                          }
                        },
                        "type": "scattergeo"
                      }
                    ],
                    "scattergl": [
                      {
                        "marker": {
                          "colorbar": {
                            "outlinewidth": 0,
                            "ticks": ""
                          }
                        },
                        "type": "scattergl"
                      }
                    ],
                    "scattermap": [
                      {
                        "marker": {
                          "colorbar": {
                            "outlinewidth": 0,
                            "ticks": ""
                          }
                        },
                        "type": "scattermap"
                      }
                    ],
                    "scattermapbox": [
                      {
                        "marker": {
                          "colorbar": {
                            "outlinewidth": 0,
                            "ticks": ""
                          }
                        },
                        "type": "scattermapbox"
                      }
                    ],
                    "scatterpolar": [
                      {
                        "marker": {
                          "colorbar": {
                            "outlinewidth": 0,
                            "ticks": ""
                          }
                        },
                        "type": "scatterpolar"
                      }
                    ],
                    "scatterpolargl": [
                      {
                        "marker": {
                          "colorbar": {
                            "outlinewidth": 0,
                            "ticks": ""
                          }
                        },
                        "type": "scatterpolargl"
                      }
                    ],
                    "scatterternary": [
                      {
                        "marker": {
                          "colorbar": {
                            "outlinewidth": 0,
                            "ticks": ""
                          }
                        },
                        "type": "scatterternary"
                      }
                    ],
                    "surface": [
                      {
                        "colorbar": {
                          "outlinewidth": 0,
                          "ticks": ""
                        },
                        "colorscale": [
                          [
                            0,
                            "#0d0887"
                          ],
                          [
                            0.1111111111111111,
                            "#46039f"
                          ],
                          [
                            0.2222222222222222,
                            "#7201a8"
                          ],
                          [
                            0.3333333333333333,
                            "#9c179e"
                          ],
                          [
                            0.4444444444444444,
                            "#bd3786"
                          ],
                          [
                            0.5555555555555556,
                            "#d8576b"
                          ],
                          [
                            0.6666666666666666,
                            "#ed7953"
                          ],
                          [
                            0.7777777777777778,
                            "#fb9f3a"
                          ],
                          [
                            0.8888888888888888,
                            "#fdca26"
                          ],
                          [
                            1,
                            "#f0f921"
                          ]
                        ],
                        "type": "surface"
                      }
                    ],
                    "table": [
                      {
                        "cells": {
                          "fill": {
                            "color": "#EBF0F8"
                          },
                          "line": {
                            "color": "white"
                          }
                        },
                        "header": {
                          "fill": {
                            "color": "#C8D4E3"
                          },
                          "line": {
                            "color": "white"
                          }
                        },
                        "type": "table"
                      }
                    ]
                  },
                  "layout": {
                    "annotationdefaults": {
                      "arrowcolor": "#2a3f5f",
                      "arrowhead": 0,
                      "arrowwidth": 1
                    },
                    "autotypenumbers": "strict",
                    "coloraxis": {
                      "colorbar": {
                        "outlinewidth": 0,
                        "ticks": ""
                      }
                    },
                    "colorscale": {
                      "diverging": [
                        [
                          0,
                          "#8e0152"
                        ],
                        [
                          0.1,
                          "#c51b7d"
                        ],
                        [
                          0.2,
                          "#de77ae"
                        ],
                        [
                          0.3,
                          "#f1b6da"
                        ],
                        [
                          0.4,
                          "#fde0ef"
                        ],
                        [
                          0.5,
                          "#f7f7f7"
                        ],
                        [
                          0.6,
                          "#e6f5d0"
                        ],
                        [
                          0.7,
                          "#b8e186"
                        ],
                        [
                          0.8,
                          "#7fbc41"
                        ],
                        [
                          0.9,
                          "#4d9221"
                        ],
                        [
                          1,
                          "#276419"
                        ]
                      ],
                      "sequential": [
                        [
                          0,
                          "#0d0887"
                        ],
                        [
                          0.1111111111111111,
                          "#46039f"
                        ],
                        [
                          0.2222222222222222,
                          "#7201a8"
                        ],
                        [
                          0.3333333333333333,
                          "#9c179e"
                        ],
                        [
                          0.4444444444444444,
                          "#bd3786"
                        ],
                        [
                          0.5555555555555556,
                          "#d8576b"
                        ],
                        [
                          0.6666666666666666,
                          "#ed7953"
                        ],
                        [
                          0.7777777777777778,
                          "#fb9f3a"
                        ],
                        [
                          0.8888888888888888,
                          "#fdca26"
                        ],
                        [
                          1,
                          "#f0f921"
                        ]
                      ],
                      "sequentialminus": [
                        [
                          0,
                          "#0d0887"
                        ],
                        [
                          0.1111111111111111,
                          "#46039f"
                        ],
                        [
                          0.2222222222222222,
                          "#7201a8"
                        ],
                        [
                          0.3333333333333333,
                          "#9c179e"
                        ],
                        [
                          0.4444444444444444,
                          "#bd3786"
                        ],
                        [
                          0.5555555555555556,
                          "#d8576b"
                        ],
                        [
                          0.6666666666666666,
                          "#ed7953"
                        ],
                        [
                          0.7777777777777778,
                          "#fb9f3a"
                        ],
                        [
                          0.8888888888888888,
                          "#fdca26"
                        ],
                        [
                          1,
                          "#f0f921"
                        ]
                      ]
                    },
                    "colorway": [
                      "#636efa",
                      "#EF553B",
                      "#00cc96",
                      "#ab63fa",
                      "#FFA15A",
                      "#19d3f3",
                      "#FF6692",
                      "#B6E880",
                      "#FF97FF",
                      "#FECB52"
                    ],
                    "font": {
                      "color": "#2a3f5f"
                    },
                    "geo": {
                      "bgcolor": "white",
                      "lakecolor": "white",
                      "landcolor": "#E5ECF6",
                      "showlakes": true,
                      "showland": true,
                      "subunitcolor": "white"
                    },
                    "hoverlabel": {
                      "align": "left"
                    },
                    "hovermode": "closest",
                    "mapbox": {
                      "style": "light"
                    },
                    "paper_bgcolor": "white",
                    "plot_bgcolor": "#E5ECF6",
                    "polar": {
                      "angularaxis": {
                        "gridcolor": "white",
                        "linecolor": "white",
                        "ticks": ""
                      },
                      "bgcolor": "#E5ECF6",
                      "radialaxis": {
                        "gridcolor": "white",
                        "linecolor": "white",
                        "ticks": ""
                      }
                    },
                    "scene": {
                      "xaxis": {
                        "backgroundcolor": "#E5ECF6",
                        "gridcolor": "white",
                        "gridwidth": 2,
                        "linecolor": "white",
                        "showbackground": true,
                        "ticks": "",
                        "zerolinecolor": "white"
                      },
                      "yaxis": {
                        "backgroundcolor": "#E5ECF6",
                        "gridcolor": "white",
                        "gridwidth": 2,
                        "linecolor": "white",
                        "showbackground": true,
                        "ticks": "",
                        "zerolinecolor": "white"
                      },
                      "zaxis": {
                        "backgroundcolor": "#E5ECF6",
                        "gridcolor": "white",
                        "gridwidth": 2,
                        "linecolor": "white",
                        "showbackground": true,
                        "ticks": "",
                        "zerolinecolor": "white"
                      }
                    },
                    "shapedefaults": {
                      "line": {
                        "color": "#2a3f5f"
                      }
                    },
                    "ternary": {
                      "aaxis": {
                        "gridcolor": "white",
                        "linecolor": "white",
                        "ticks": ""
                      },
                      "baxis": {
                        "gridcolor": "white",
                        "linecolor": "white",
                        "ticks": ""
                      },
                      "bgcolor": "#E5ECF6",
                      "caxis": {
                        "gridcolor": "white",
                        "linecolor": "white",
                        "ticks": ""
                      }
                    },
                    "title": {
                      "x": 0.05
                    },
                    "xaxis": {
                      "automargin": true,
                      "gridcolor": "white",
                      "linecolor": "white",
                      "ticks": "",
                      "title": {
                        "standoff": 15
                      },
                      "zerolinecolor": "white",
                      "zerolinewidth": 2
                    },
                    "yaxis": {
                      "automargin": true,
                      "gridcolor": "white",
                      "linecolor": "white",
                      "ticks": "",
                      "title": {
                        "standoff": 15
                      },
                      "zerolinecolor": "white",
                      "zerolinewidth": 2
                    }
                  }
                },
                "title": {
                  "text": "Minimum Variance per Generation for Each Round"
                },
                "xaxis": {
                  "title": {
                    "text": "Generation Index"
                  }
                },
                "yaxis": {
                  "title": {
                    "text": "Variance"
                  }
                }
              }
            }
          },
          "metadata": {},
          "output_type": "display_data"
        }
      ],
      "source": [
        "import plotly.graph_objects as go\n",
        "import pandas as pd\n",
        "\n",
        "# Example data (replace with your own)\n",
        "data = logger.variances\n",
        "for item in data:\n",
        "    print(item)\n",
        "\n",
        "# Convert to DataFrame for easy grouping\n",
        "df = pd.DataFrame(data, columns=[\"round_idx\", \"gen_idx\", \"bitstring\", \"variance\"])\n",
        "\n",
        "# For each round & generation, find the row with minimum variance\n",
        "df_min = df.loc[df.groupby([\"round_idx\", \"gen_idx\"])[\"variance\"].idxmin()]\n",
        "\n",
        "# Create interactive plot\n",
        "fig = go.Figure()\n",
        "\n",
        "for round_val, group in df_min.groupby(\"round_idx\"):\n",
        "    print(group)\n",
        "    fig.add_trace(\n",
        "        go.Scatter(\n",
        "            x=group[\"gen_idx\"],\n",
        "            y=group[\"variance\"],\n",
        "            mode=\"lines+markers\",\n",
        "            name=f\"Round {round_val}\",\n",
        "            text=[f\"Bitstring: {b}\" for b in group[\"bitstring\"]],\n",
        "            hovertemplate=\"Gen: %{x}<br>Variance: %{y}<br>%{text}\"\n",
        "        )\n",
        "    )\n",
        "\n",
        "fig.update_layout(\n",
        "    title=\"Minimum Variance per Generation for Each Round\",\n",
        "    xaxis_title=\"Generation Index\",\n",
        "    yaxis_title=\"Variance\",\n",
        "    hovermode=\"closest\"\n",
        ")\n",
        "\n",
        "fig.show()\n"
      ]
    },
    {
      "cell_type": "code",
      "execution_count": 28,
      "metadata": {},
      "outputs": [
        {
          "name": "stdout",
          "output_type": "stream",
          "text": [
            "Device 0.0 Accuracy: 0.73\n",
            "Device 1.0 Accuracy: 0.71\n",
            "Device 2.0 Accuracy: 0.75\n",
            "Device 3.0 Accuracy: 0.77\n",
            "Device 4.0 Accuracy: 0.68\n",
            "Device 5.0 Accuracy: 0.7\n",
            "Device 6.0 Accuracy: 0.72\n",
            "Device 7.0 Accuracy: 0.74\n",
            "Device 8.0 Accuracy: 0.71\n",
            "Device 9.0 Accuracy: 0.72\n",
            "Device 10.0 Accuracy: 0.78\n",
            "Device 11.0 Accuracy: 0.74\n",
            "Device 12.0 Accuracy: 0.7\n",
            "Device 13.0 Accuracy: 0.72\n",
            "Device 14.0 Accuracy: 0.69\n",
            "Device 15.0 Accuracy: 0.71\n",
            "Device 16.0 Accuracy: 0.67\n",
            "Device 17.0 Accuracy: 0.8\n",
            "Device 18.0 Accuracy: 0.69\n",
            "Device 19.0 Accuracy: 0.83\n",
            "Device 20.0 Accuracy: 0.76\n",
            "Device 21.0 Accuracy: 0.76\n",
            "Device 22.0 Accuracy: 0.71\n",
            "Device 23.0 Accuracy: 0.88\n",
            "Device 24.0 Accuracy: 0.82\n",
            "Device 25.0 Accuracy: 0.73\n",
            "Device 26.0 Accuracy: 0.83\n",
            "Device 27.0 Accuracy: 0.78\n",
            "Device 28.0 Accuracy: 0.77\n",
            "Device 29.0 Accuracy: 0.79\n"
          ]
        }
      ],
      "source": [
        "accuracies = []\n",
        "\n",
        "for device in server.devices:\n",
        "    x_test = device.test_data[0]\n",
        "    y_test = device.test_data[1]\n",
        "    \n",
        "    loss, accuracy = server.evaluate(x_test, y_test)\n",
        "    \n",
        "    accuracies.append(round(accuracy, 2))\n",
        "    print(f\"Device {device.id} Accuracy: {round(accuracy, 2)}\")\n",
        "\n",
        "VARIANCE = np.var(accuracies)\n",
        "VARIANCE_SCORE = 1.0/VARIANCE\n",
        "MEAN = np.mean(accuracies)\n",
        "STANDARD_DEVIATION = np.std(accuracies)"
      ]
    },
    {
      "cell_type": "code",
      "execution_count": 29,
      "metadata": {},
      "outputs": [
        {
          "name": "stdout",
          "output_type": "stream",
          "text": [
            "MEAN: 0.7463333333333332\n",
            "VARIANCE: 0.002489888888888889\n",
            "STANDARD_DEVIATION: 0.04989878644705589\n",
            "Fairness: 20.04056754087657\n"
          ]
        }
      ],
      "source": [
        "print(f\"MEAN: {MEAN}\")\n",
        "print(f\"VARIANCE: {VARIANCE}\")\n",
        "print(f\"STANDARD_DEVIATION: {STANDARD_DEVIATION}\")\n",
        "print(f\"Fairness: {1.0/STANDARD_DEVIATION}\")"
      ]
    },
    {
      "cell_type": "code",
      "execution_count": 30,
      "metadata": {},
      "outputs": [
        {
          "name": "stdout",
          "output_type": "stream",
          "text": [
            "Round: 1\n",
            "Server Test Accuracy: 0.781000018119812\n",
            "Variance: 0.0038328888888888896\n",
            "Variance Score: 260.899814471243\n",
            "Mean: 0.7073333333333334\n",
            "Standard Deviation: 0.06191032941996747\n",
            "Fairness: 16.15239345952305\n",
            "---\n",
            "Round: 2\n",
            "Server Test Accuracy: 0.8374999761581421\n",
            "Variance: 0.003176\n",
            "Variance Score: 314.86146095717885\n",
            "Mean: 0.762\n",
            "Standard Deviation: 0.056356011214421485\n",
            "Fairness: 17.7443360246919\n",
            "---\n",
            "Round: 3\n",
            "Server Test Accuracy: 0.8684999942779541\n",
            "Variance: 0.002771666666666666\n",
            "Variance Score: 360.79374624173187\n",
            "Mean: 0.805\n",
            "Standard Deviation: 0.052646620657613594\n",
            "Fairness: 18.994571494027756\n",
            "---\n",
            "Round: 4\n",
            "Server Test Accuracy: 0.8230000138282776\n",
            "Variance: 0.002489888888888889\n",
            "Variance Score: 401.6243473604355\n",
            "Mean: 0.7463333333333332\n",
            "Standard Deviation: 0.04989878644705589\n",
            "Fairness: 20.04056754087657\n",
            "---\n",
            "\n"
          ]
        }
      ],
      "source": [
        "print(needed_values_for_comparison)"
      ]
    },
    {
      "cell_type": "code",
      "execution_count": 31,
      "metadata": {},
      "outputs": [
        {
          "name": "stdout",
          "output_type": "stream",
          "text": [
            "0.781000018119812\n",
            "0.8374999761581421\n",
            "0.8684999942779541\n",
            "0.8230000138282776\n",
            "[1, 2, 3, 4]\n",
            "[0.781000018119812, 0.8374999761581421, 0.8684999942779541, 0.8230000138282776]\n"
          ]
        }
      ],
      "source": [
        "accuracy_plot_x = []\n",
        "accuracy_plot_y = []\n",
        "\n",
        "for item in needed_values_for_comparison.split(\"---\")[:-1]:\n",
        "    for subitem in item.split(\"\\n\"):\n",
        "        if \"Server Test Accuracy\" in subitem:\n",
        "            print(float(subitem[subitem.find(\": \")+2:]))\n",
        "            accuracy_plot_y.append(float(subitem[subitem.find(\": \")+2:]))\n",
        "        \n",
        "    accuracy_plot_x.append(needed_values_for_comparison.split(\"---\").index(item)+1)\n",
        "        \n",
        "print(accuracy_plot_x)\n",
        "print(accuracy_plot_y)"
      ]
    },
    {
      "cell_type": "code",
      "execution_count": 32,
      "metadata": {},
      "outputs": [
        {
          "data": {
            "image/png": "[encoded data removed]",
            "text/plain": [
              "<Figure size 640x480 with 1 Axes>"
            ]
          },
          "metadata": {},
          "output_type": "display_data"
        }
      ],
      "source": [
        "import matplotlib.pyplot as plt\n",
        "\n",
        "# Example points (replace with your own x and y values)\n",
        "x = accuracy_plot_x\n",
        "y = accuracy_plot_y\n",
        "\n",
        "# Scatter plot of points\n",
        "plt.scatter(x, y, color='red', zorder=2)\n",
        "\n",
        "# Plot line with markers\n",
        "plt.plot(x, y, marker='o', linestyle='-', color='blue')\n",
        "\n",
        "# Highlight the points explicitly if you like\n",
        "plt.scatter(x, y, color='red')\n",
        "\n",
        "plt.xlabel(\"Round Index\")\n",
        "plt.ylabel(\"Global Test Accuracy\")\n",
        "plt.title(\"Global Test Accuracy vs. Round Index\")\n",
        "plt.grid(True)\n",
        "plt.show()\n"
      ]
    }
  ],
  "metadata": {
    "colab": {
      "provenance": []
    },
    "kernelspec": {
      "display_name": "venv",
      "language": "python",
      "name": "python3"
    },
    "language_info": {
      "codemirror_mode": {
        "name": "ipython",
        "version": 3
      },
      "file_extension": ".py",
      "mimetype": "text/x-python",
      "name": "python",
      "nbconvert_exporter": "python",
      "pygments_lexer": "ipython3",
      "version": "3.12.6"
    }
  },
  "nbformat": 4,
  "nbformat_minor": 0
}
